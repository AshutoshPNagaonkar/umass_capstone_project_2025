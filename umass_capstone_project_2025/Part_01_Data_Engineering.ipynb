{
 "cells": [
  {
   "cell_type": "markdown",
   "id": "88c7593a-e101-4c89-80a6-ed34973b2802",
   "metadata": {},
   "source": [
    "<div style=\"background-color: #D18E11; color: white; font-variant: small-caps; padding: 10px; text-align: center;\">\n",
    "  <span style=\"font-size: 14pt;\">Part 01:</span>\n",
    "  <span style=\"font-size: 26pt; font-weight: bold;\"> Data Engineering</span>\n",
    "</div>\n",
    "\n",
    "<div style=\"background-color: #D18E11; color: white; padding: 10px; text-align: center;\">\n",
    "  <span style=\"font-size: 14pt; font-weight: bold; font-color: #87B5D6\"> Preparing and Structuring U.S. Border Entry Data for Analysis </span><br>  \n",
    "</div>\n",
    "\n",
    "<div style=\"background-color: #D6B276; padding: 10px; margin-top: 10px;\">\n",
    "  <b>Importing Python libraries.</b>\n",
    "</div>"
   ]
  },
  {
   "cell_type": "code",
   "execution_count": 47,
   "id": "90f1bdf8-9e11-4595-9ec1-d26f7e668855",
   "metadata": {
    "jupyter": {
     "source_hidden": true
    }
   },
   "outputs": [],
   "source": [
    "\n",
    "# Importing required libraries\n",
    "import pandas as pd\n",
    "import numpy as np\n",
    "from IPython.display import display, HTML\n",
    "import io\n",
    "import sys\n",
    "from pandas import DataFrame"
   ]
  },
  {
   "cell_type": "markdown",
   "id": "9a43b173-4b79-4c93-a8da-93254179c2d3",
   "metadata": {},
   "source": [
    "<div style=\"background-color: #D6B276;  padding: 10px;\">\n",
    "<h3>Data Collection</h3> \n",
    "</div>"
   ]
  },
  {
   "cell_type": "code",
   "execution_count": 48,
   "id": "01dcec54-52d2-49ed-89f6-42ac5eac6c00",
   "metadata": {
    "jupyter": {
     "source_hidden": true
    },
    "scrolled": true
   },
   "outputs": [
    {
     "data": {
      "text/html": [
       "<div>\n",
       "<style scoped>\n",
       "    .dataframe tbody tr th:only-of-type {\n",
       "        vertical-align: middle;\n",
       "    }\n",
       "\n",
       "    .dataframe tbody tr th {\n",
       "        vertical-align: top;\n",
       "    }\n",
       "\n",
       "    .dataframe thead th {\n",
       "        text-align: right;\n",
       "    }\n",
       "</style>\n",
       "<table border=\"1\" class=\"dataframe\">\n",
       "  <thead>\n",
       "    <tr style=\"text-align: right;\">\n",
       "      <th></th>\n",
       "      <th>Port Name</th>\n",
       "      <th>State</th>\n",
       "      <th>Port Code</th>\n",
       "      <th>Border</th>\n",
       "      <th>Date</th>\n",
       "      <th>Measure</th>\n",
       "      <th>Value</th>\n",
       "      <th>Latitude</th>\n",
       "      <th>Longitude</th>\n",
       "      <th>Point</th>\n",
       "    </tr>\n",
       "  </thead>\n",
       "  <tbody>\n",
       "    <tr>\n",
       "      <th>0</th>\n",
       "      <td>Jackman</td>\n",
       "      <td>Maine</td>\n",
       "      <td>104</td>\n",
       "      <td>US-Canada Border</td>\n",
       "      <td>Jan 2024</td>\n",
       "      <td>Trucks</td>\n",
       "      <td>6556</td>\n",
       "      <td>45.806</td>\n",
       "      <td>-70.397</td>\n",
       "      <td>POINT (-70.396722 45.805661)</td>\n",
       "    </tr>\n",
       "    <tr>\n",
       "      <th>1</th>\n",
       "      <td>Porthill</td>\n",
       "      <td>Idaho</td>\n",
       "      <td>3308</td>\n",
       "      <td>US-Canada Border</td>\n",
       "      <td>Apr 2024</td>\n",
       "      <td>Trucks</td>\n",
       "      <td>98</td>\n",
       "      <td>49.000</td>\n",
       "      <td>-116.499</td>\n",
       "      <td>POINT (-116.49925 48.999861)</td>\n",
       "    </tr>\n",
       "    <tr>\n",
       "      <th>2</th>\n",
       "      <td>San Luis</td>\n",
       "      <td>Arizona</td>\n",
       "      <td>2608</td>\n",
       "      <td>US-Mexico Border</td>\n",
       "      <td>Apr 2024</td>\n",
       "      <td>Buses</td>\n",
       "      <td>10</td>\n",
       "      <td>32.485</td>\n",
       "      <td>-114.782</td>\n",
       "      <td>POINT (-114.7822222 32.485)</td>\n",
       "    </tr>\n",
       "    <tr>\n",
       "      <th>3</th>\n",
       "      <td>Willow Creek</td>\n",
       "      <td>Montana</td>\n",
       "      <td>3325</td>\n",
       "      <td>US-Canada Border</td>\n",
       "      <td>Jan 2024</td>\n",
       "      <td>Pedestrians</td>\n",
       "      <td>2</td>\n",
       "      <td>49.000</td>\n",
       "      <td>-109.731</td>\n",
       "      <td>POINT (-109.731333 48.999972)</td>\n",
       "    </tr>\n",
       "    <tr>\n",
       "      <th>4</th>\n",
       "      <td>Warroad</td>\n",
       "      <td>Minnesota</td>\n",
       "      <td>3423</td>\n",
       "      <td>US-Canada Border</td>\n",
       "      <td>Jan 2024</td>\n",
       "      <td>Personal Vehicle Passengers</td>\n",
       "      <td>9266</td>\n",
       "      <td>48.999</td>\n",
       "      <td>-95.377</td>\n",
       "      <td>POINT (-95.376555 48.999)</td>\n",
       "    </tr>\n",
       "  </tbody>\n",
       "</table>\n",
       "</div>"
      ],
      "text/plain": [
       "      Port Name      State  Port Code            Border      Date  \\\n",
       "0       Jackman      Maine        104  US-Canada Border  Jan 2024   \n",
       "1      Porthill      Idaho       3308  US-Canada Border  Apr 2024   \n",
       "2      San Luis    Arizona       2608  US-Mexico Border  Apr 2024   \n",
       "3  Willow Creek    Montana       3325  US-Canada Border  Jan 2024   \n",
       "4       Warroad  Minnesota       3423  US-Canada Border  Jan 2024   \n",
       "\n",
       "                       Measure  Value  Latitude  Longitude  \\\n",
       "0                       Trucks   6556    45.806    -70.397   \n",
       "1                       Trucks     98    49.000   -116.499   \n",
       "2                        Buses     10    32.485   -114.782   \n",
       "3                  Pedestrians      2    49.000   -109.731   \n",
       "4  Personal Vehicle Passengers   9266    48.999    -95.377   \n",
       "\n",
       "                           Point  \n",
       "0   POINT (-70.396722 45.805661)  \n",
       "1   POINT (-116.49925 48.999861)  \n",
       "2    POINT (-114.7822222 32.485)  \n",
       "3  POINT (-109.731333 48.999972)  \n",
       "4      POINT (-95.376555 48.999)  "
      ]
     },
     "execution_count": 48,
     "metadata": {},
     "output_type": "execute_result"
    }
   ],
   "source": [
    "\n",
    "file_path = '../Capstone Project/Border_Crossing_Entry_Data.csv'\n",
    "df = pd.read_csv(file_path)\n",
    "raw_df = pd.read_csv(file_path)\n",
    "\n",
    "# Show the first 5 rows\n",
    "df.head()"
   ]
  },
  {
   "cell_type": "code",
   "execution_count": 49,
   "id": "a30be082-707d-471b-90d4-ea20dff82900",
   "metadata": {
    "jupyter": {
     "source_hidden": true
    }
   },
   "outputs": [
    {
     "name": "stdout",
     "output_type": "stream",
     "text": [
      "Dataset shape: (rows x columns) (401566, 10)\n"
     ]
    }
   ],
   "source": [
    "\n",
    "print(\"Dataset shape: (rows x columns)\", df.shape)"
   ]
  },
  {
   "cell_type": "markdown",
   "id": "f1af729f-a1b9-4127-a543-e8414b1c2fab",
   "metadata": {},
   "source": [
    "<div style=\"background-color: #D6B276; padding: 10px;\">\n",
    "<h3>Data Cleaning</h3> <br>\n",
    "</div>\n",
    "<div style=\"background-color: #D6B276; padding: 10px;\">\n",
    "Checking for the null or missing values in dataset and the data type of the columns.\n",
    "</div>"
   ]
  },
  {
   "cell_type": "code",
   "execution_count": 50,
   "id": "999649f0-807b-4b59-b422-5db05117204d",
   "metadata": {
    "jupyter": {
     "source_hidden": true
    },
    "scrolled": true
   },
   "outputs": [
    {
     "data": {
      "text/html": [
       "\n",
       "<div style=\"display: flex; justify-content: space-between;\">\n",
       "  <div style=\"flex: 1; margin-right: 20px;\">\n",
       "    <h4>DataFrame Info</h4>\n",
       "    <pre><class 'pandas.core.frame.DataFrame'>\n",
       "RangeIndex: 401566 entries, 0 to 401565\n",
       "Data columns (total 10 columns):\n",
       " #   Column     Non-Null Count   Dtype  \n",
       "---  ------     --------------   -----  \n",
       " 0   Port Name  401566 non-null  object \n",
       " 1   State      401566 non-null  object \n",
       " 2   Port Code  401566 non-null  int64  \n",
       " 3   Border     401566 non-null  object \n",
       " 4   Date       401566 non-null  object \n",
       " 5   Measure    401566 non-null  object \n",
       " 6   Value      401566 non-null  int64  \n",
       " 7   Latitude   401566 non-null  float64\n",
       " 8   Longitude  401566 non-null  float64\n",
       " 9   Point      401566 non-null  object \n",
       "dtypes: float64(2), int64(2), object(6)\n",
       "memory usage: 30.6+ MB\n",
       "</pre>\n",
       "  </div>\n",
       "  <div style=\"flex: 1;\">\n",
       "    <h4>Null Count per Column</h4>\n",
       "    <table border=\"1\" class=\"dataframe\">\n",
       "  <thead>\n",
       "    <tr style=\"text-align: right;\">\n",
       "      <th></th>\n",
       "      <th>Null Count</th>\n",
       "    </tr>\n",
       "  </thead>\n",
       "  <tbody>\n",
       "    <tr>\n",
       "      <th>Port Name</th>\n",
       "      <td>0</td>\n",
       "    </tr>\n",
       "    <tr>\n",
       "      <th>State</th>\n",
       "      <td>0</td>\n",
       "    </tr>\n",
       "    <tr>\n",
       "      <th>Port Code</th>\n",
       "      <td>0</td>\n",
       "    </tr>\n",
       "    <tr>\n",
       "      <th>Border</th>\n",
       "      <td>0</td>\n",
       "    </tr>\n",
       "    <tr>\n",
       "      <th>Date</th>\n",
       "      <td>0</td>\n",
       "    </tr>\n",
       "    <tr>\n",
       "      <th>Measure</th>\n",
       "      <td>0</td>\n",
       "    </tr>\n",
       "    <tr>\n",
       "      <th>Value</th>\n",
       "      <td>0</td>\n",
       "    </tr>\n",
       "    <tr>\n",
       "      <th>Latitude</th>\n",
       "      <td>0</td>\n",
       "    </tr>\n",
       "    <tr>\n",
       "      <th>Longitude</th>\n",
       "      <td>0</td>\n",
       "    </tr>\n",
       "    <tr>\n",
       "      <th>Point</th>\n",
       "      <td>0</td>\n",
       "    </tr>\n",
       "  </tbody>\n",
       "</table>\n",
       "  </div>\n",
       "</div>\n"
      ],
      "text/plain": [
       "<IPython.core.display.HTML object>"
      ]
     },
     "metadata": {},
     "output_type": "display_data"
    }
   ],
   "source": [
    "\n",
    "# Capture df.info() output as text\n",
    "buffer = io.StringIO()\n",
    "df.info(buf=buffer)\n",
    "info_output = buffer.getvalue()\n",
    "\n",
    "# Get null summary\n",
    "null_summary = df.isnull().sum().to_frame(name='Null Count')\n",
    "\n",
    "# Display side-by-side using HTML\n",
    "display(HTML(f\"\"\"\n",
    "<div style=\"display: flex; justify-content: space-between;\">\n",
    "  <div style=\"flex: 1; margin-right: 20px;\">\n",
    "    <h4>DataFrame Info</h4>\n",
    "    <pre>{info_output}</pre>\n",
    "  </div>\n",
    "  <div style=\"flex: 1;\">\n",
    "    <h4>Null Count per Column</h4>\n",
    "    {null_summary.to_html()}\n",
    "  </div>\n",
    "</div>\n",
    "\"\"\"))"
   ]
  },
  {
   "cell_type": "markdown",
   "id": "09905e03-16f5-4b5f-a4bc-dcee085f5621",
   "metadata": {},
   "source": [
    "\n",
    "<div style=\"background-color: #D6B276; padding: 10px;\">\n",
    "The above output shows that there are no null values in the dataset. <br>\n",
    "And the datatype of the <b>Date</b> column is object which needs to be in data-time format. <br>\n",
    "Converting the Date column into date-time format.\n",
    "</div>"
   ]
  },
  {
   "cell_type": "code",
   "execution_count": 51,
   "id": "7bfdcb01-5726-4573-b9ee-7afcd522b0f5",
   "metadata": {
    "jupyter": {
     "source_hidden": true
    },
    "scrolled": true
   },
   "outputs": [
    {
     "name": "stdout",
     "output_type": "stream",
     "text": [
      "<class 'pandas.core.frame.DataFrame'>\n",
      "RangeIndex: 401566 entries, 0 to 401565\n",
      "Data columns (total 10 columns):\n",
      " #   Column     Non-Null Count   Dtype         \n",
      "---  ------     --------------   -----         \n",
      " 0   Port Name  401566 non-null  object        \n",
      " 1   State      401566 non-null  object        \n",
      " 2   Port Code  401566 non-null  int64         \n",
      " 3   Border     401566 non-null  object        \n",
      " 4   Date       401566 non-null  datetime64[ns]\n",
      " 5   Measure    401566 non-null  object        \n",
      " 6   Value      401566 non-null  int64         \n",
      " 7   Latitude   401566 non-null  float64       \n",
      " 8   Longitude  401566 non-null  float64       \n",
      " 9   Point      401566 non-null  object        \n",
      "dtypes: datetime64[ns](1), float64(2), int64(2), object(5)\n",
      "memory usage: 30.6+ MB\n"
     ]
    }
   ],
   "source": [
    "\n",
    "df['Date'] = pd.to_datetime(df['Date'], format='%b %Y')\n",
    "df.info()"
   ]
  },
  {
   "cell_type": "markdown",
   "id": "956b9fb1-47fb-491e-a145-407bd87769e7",
   "metadata": {},
   "source": [
    "<div style=\"background-color: #D6B276; padding: 10px;\">Checking for duplicate values in the dataset.\n",
    "</div>"
   ]
  },
  {
   "cell_type": "code",
   "execution_count": 52,
   "id": "10bb5947-4e46-4b66-ba8f-17e6c6456d4a",
   "metadata": {
    "jupyter": {
     "source_hidden": true
    }
   },
   "outputs": [
    {
     "name": "stdout",
     "output_type": "stream",
     "text": [
      "Number of rows before removing duplicate rows:\u001b[1m 401566 \u001b[0m\n"
     ]
    }
   ],
   "source": [
    "\n",
    "print(\"Number of rows before removing duplicate rows:\\033[1m\", df.shape[0],\"\\033[0m\") "
   ]
  },
  {
   "cell_type": "code",
   "execution_count": 53,
   "id": "5060f1eb-3eb5-4594-b738-c73abf65aedf",
   "metadata": {
    "jupyter": {
     "source_hidden": true
    }
   },
   "outputs": [
    {
     "name": "stdout",
     "output_type": "stream",
     "text": [
      "Number of duplicate rows:\u001b[1m 10 \u001b[0m\n"
     ]
    }
   ],
   "source": [
    "\n",
    "duplicate_rows = df.duplicated().sum()\n",
    "print(\"Number of duplicate rows:\\033[1m\", duplicate_rows,\"\\033[0m\")"
   ]
  },
  {
   "cell_type": "code",
   "execution_count": 54,
   "id": "eedfc170-3db5-44fc-8a4e-7399be396f87",
   "metadata": {
    "jupyter": {
     "source_hidden": true
    }
   },
   "outputs": [
    {
     "name": "stdout",
     "output_type": "stream",
     "text": [
      "Number of rows after removing duplicate rows:\u001b[1m 401556 \u001b[0m\n"
     ]
    }
   ],
   "source": [
    "\n",
    "# Droping duplicate rows\n",
    "df = df.drop_duplicates()\n",
    "print(\"Number of rows after removing duplicate rows:\\033[1m\", df.shape[0],\"\\033[0m\") "
   ]
  },
  {
   "cell_type": "markdown",
   "id": "1738e718-9a43-4fd3-b9d4-9f667adcbb1a",
   "metadata": {},
   "source": [
    "<div style=\"background-color: #D6B276; padding: 10px;\">\n",
    "<h3>Data Transformation </h3><br>\n",
    "</div>\n",
    "<div style=\"background-color: #D6B276; padding: 10px;\">\n",
    "<b>Date-Time Parsing</b><br>\n",
    "Adding two new columns 'Month' and 'Year' to analyse the data periodically.\n",
    "</div>"
   ]
  },
  {
   "cell_type": "code",
   "execution_count": 55,
   "id": "f5a1c42a-964c-4cdb-9a3b-ec2cccd43ef4",
   "metadata": {
    "jupyter": {
     "source_hidden": true
    },
    "scrolled": true
   },
   "outputs": [
    {
     "name": "stdout",
     "output_type": "stream",
     "text": [
      "<class 'pandas.core.frame.DataFrame'>\n",
      "Index: 401556 entries, 0 to 401565\n",
      "Data columns (total 12 columns):\n",
      " #   Column     Non-Null Count   Dtype         \n",
      "---  ------     --------------   -----         \n",
      " 0   Port Name  401556 non-null  object        \n",
      " 1   State      401556 non-null  object        \n",
      " 2   Port Code  401556 non-null  int64         \n",
      " 3   Border     401556 non-null  object        \n",
      " 4   Date       401556 non-null  datetime64[ns]\n",
      " 5   Measure    401556 non-null  object        \n",
      " 6   Value      401556 non-null  int64         \n",
      " 7   Latitude   401556 non-null  float64       \n",
      " 8   Longitude  401556 non-null  float64       \n",
      " 9   Point      401556 non-null  object        \n",
      " 10  Month      401556 non-null  int32         \n",
      " 11  Year       401556 non-null  int32         \n",
      "dtypes: datetime64[ns](1), float64(2), int32(2), int64(2), object(5)\n",
      "memory usage: 36.8+ MB\n"
     ]
    },
    {
     "data": {
      "text/html": [
       "<div>\n",
       "<style scoped>\n",
       "    .dataframe tbody tr th:only-of-type {\n",
       "        vertical-align: middle;\n",
       "    }\n",
       "\n",
       "    .dataframe tbody tr th {\n",
       "        vertical-align: top;\n",
       "    }\n",
       "\n",
       "    .dataframe thead th {\n",
       "        text-align: right;\n",
       "    }\n",
       "</style>\n",
       "<table border=\"1\" class=\"dataframe\">\n",
       "  <thead>\n",
       "    <tr style=\"text-align: right;\">\n",
       "      <th></th>\n",
       "      <th>Date</th>\n",
       "      <th>Year</th>\n",
       "      <th>Month</th>\n",
       "    </tr>\n",
       "  </thead>\n",
       "  <tbody>\n",
       "    <tr>\n",
       "      <th>0</th>\n",
       "      <td>2024-01-01</td>\n",
       "      <td>2024</td>\n",
       "      <td>1</td>\n",
       "    </tr>\n",
       "    <tr>\n",
       "      <th>1</th>\n",
       "      <td>2024-04-01</td>\n",
       "      <td>2024</td>\n",
       "      <td>4</td>\n",
       "    </tr>\n",
       "    <tr>\n",
       "      <th>2</th>\n",
       "      <td>2024-04-01</td>\n",
       "      <td>2024</td>\n",
       "      <td>4</td>\n",
       "    </tr>\n",
       "    <tr>\n",
       "      <th>3</th>\n",
       "      <td>2024-01-01</td>\n",
       "      <td>2024</td>\n",
       "      <td>1</td>\n",
       "    </tr>\n",
       "    <tr>\n",
       "      <th>4</th>\n",
       "      <td>2024-01-01</td>\n",
       "      <td>2024</td>\n",
       "      <td>1</td>\n",
       "    </tr>\n",
       "  </tbody>\n",
       "</table>\n",
       "</div>"
      ],
      "text/plain": [
       "        Date  Year  Month\n",
       "0 2024-01-01  2024      1\n",
       "1 2024-04-01  2024      4\n",
       "2 2024-04-01  2024      4\n",
       "3 2024-01-01  2024      1\n",
       "4 2024-01-01  2024      1"
      ]
     },
     "execution_count": 55,
     "metadata": {},
     "output_type": "execute_result"
    }
   ],
   "source": [
    "\n",
    "df['Month'] = df['Date'].dt.month\n",
    "df['Year'] = df['Date'].dt.year\n",
    "df.info()\n",
    "# Previewing the new columns\n",
    "df[['Date', 'Year', 'Month']].head()"
   ]
  },
  {
   "cell_type": "markdown",
   "id": "9c430d94-b6c1-45ac-a912-4f9811134b28",
   "metadata": {},
   "source": [
    "<div style=\"background-color: #D6B276; padding: 10px;\">\n",
    "<b>Encoding Categorial Variable</b><br>\n",
    "Creating new tables (lookup table) for <b>state</b>, <b>border</b> and <b>measure</b> values and assigning them <b>code</b>.<br><br>\n",
    "Creating state_table.\n",
    "</div>"
   ]
  },
  {
   "cell_type": "code",
   "execution_count": 56,
   "id": "dbc79278-c4a2-4053-9df6-d4e231a564d3",
   "metadata": {
    "jupyter": {
     "source_hidden": true
    },
    "scrolled": true
   },
   "outputs": [
    {
     "name": "stdout",
     "output_type": "stream",
     "text": [
      "Number of unique states:\u001b[1m 14 \u001b[0m \n",
      "\n",
      "Maine: 001\n",
      "Idaho: 002\n",
      "Arizona: 003\n",
      "Montana: 004\n",
      "Minnesota: 005\n",
      "Texas: 006\n",
      "North Dakota: 007\n",
      "Washington: 008\n",
      "Alaska: 009\n",
      "California: 010\n",
      "Michigan: 011\n",
      "New York: 012\n",
      "New Mexico: 013\n",
      "Vermont: 014\n"
     ]
    }
   ],
   "source": [
    "\n",
    "# Extracting unique values from state column\n",
    "unique_states = df['State'].unique()\n",
    "\n",
    "# Displaying the unique states one below the other with the count\n",
    "print(f\"Number of unique states:\\033[1m {len(unique_states)} \\033[0m \\n\")\n",
    "\n",
    "# Creating a dictionary to map unique state names to three-digit codes\n",
    "state_codes = {state: f\"{i+1:03}\" for i, state in enumerate(unique_states)}\n",
    "\n",
    "# Display the state and their respective three-digit codes\n",
    "for state, code in state_codes.items():\n",
    "    print(f\"{state}: {code}\")"
   ]
  },
  {
   "cell_type": "code",
   "execution_count": 57,
   "id": "3e2cfb3a-7c4a-4c16-99f3-ab0104c6e8ca",
   "metadata": {
    "jupyter": {
     "source_hidden": true
    },
    "scrolled": true
   },
   "outputs": [
    {
     "name": "stdout",
     "output_type": "stream",
     "text": [
      "            Name Code\n",
      "0          Maine  001\n",
      "1          Idaho  002\n",
      "2        Arizona  003\n",
      "3        Montana  004\n",
      "4      Minnesota  005\n",
      "5          Texas  006\n",
      "6   North Dakota  007\n",
      "7     Washington  008\n",
      "8         Alaska  009\n",
      "9     California  010\n",
      "10      Michigan  011\n",
      "11      New York  012\n",
      "12    New Mexico  013\n",
      "13       Vermont  014\n"
     ]
    }
   ],
   "source": [
    "\n",
    "# Create a new Table with two columns: 'Name' and 'Code'\n",
    "state_table = pd.DataFrame(list(state_codes.items()), columns=['Name', 'Code'])\n",
    "print(state_table)"
   ]
  },
  {
   "cell_type": "code",
   "execution_count": 58,
   "id": "c804af56-3c39-42a4-8feb-ff8c64bdf10f",
   "metadata": {
    "jupyter": {
     "source_hidden": true
    }
   },
   "outputs": [
    {
     "name": "stdout",
     "output_type": "stream",
     "text": [
      "No duplicate state names found.\n"
     ]
    }
   ],
   "source": [
    "\n",
    "# Find duplicate State Names\n",
    "duplicates = state_table[state_table.duplicated(subset=['Name'], keep=False)]\n",
    "\n",
    "if duplicates.empty:\n",
    "    print(\"No duplicate state names found.\")\n",
    "else:\n",
    "    print(\"Duplicate state names found:\")\n",
    "    print(duplicates)"
   ]
  },
  {
   "cell_type": "markdown",
   "id": "542efd29-a90b-4234-9a4b-5f55e8277998",
   "metadata": {},
   "source": [
    "<div style=\"background-color: #D6B276; padding: 10px;\">\n",
    "Creating border_table.\n",
    "</div>"
   ]
  },
  {
   "cell_type": "code",
   "execution_count": 59,
   "id": "26efc880-4d0e-4fe6-a612-52a347f4b9e5",
   "metadata": {
    "jupyter": {
     "source_hidden": true
    }
   },
   "outputs": [
    {
     "name": "stdout",
     "output_type": "stream",
     "text": [
      "Number of unique border:\u001b[1m 2 \u001b[0m \n",
      "\n",
      "US-Canada Border: 001\n",
      "US-Mexico Border: 002\n"
     ]
    }
   ],
   "source": [
    "\n",
    "# Extracting unique values from border column\n",
    "unique_border = df['Border'].unique()\n",
    "\n",
    "# Displaying the unique border one below the other with the count\n",
    "print(f\"Number of unique border:\\033[1m {len(unique_border)} \\033[0m \\n\")\n",
    "\n",
    "# Creating a dictionary to map unique border names to three-digit codes\n",
    "border_codes = {border: f\"{i+1:03}\" for i, border in enumerate(unique_border)}\n",
    "\n",
    "# Display the border and their respective three-digit codes\n",
    "for border, code in border_codes.items():\n",
    "    print(f\"{border}: {code}\")"
   ]
  },
  {
   "cell_type": "code",
   "execution_count": 60,
   "id": "63d8cff2-9717-4b38-882e-c65f7cc2dfdd",
   "metadata": {
    "jupyter": {
     "source_hidden": true
    }
   },
   "outputs": [
    {
     "name": "stdout",
     "output_type": "stream",
     "text": [
      "               Name Code\n",
      "0  US-Canada Border  001\n",
      "1  US-Mexico Border  002\n"
     ]
    }
   ],
   "source": [
    "\n",
    "# Create a new DataFrame with two columns: 'Name' and 'Code'\n",
    "border_table = pd.DataFrame(list(border_codes.items()), columns=['Name', 'Code'])\n",
    "print(border_table)"
   ]
  },
  {
   "cell_type": "markdown",
   "id": "fca6f453-9511-4fa3-af24-83689129663f",
   "metadata": {},
   "source": [
    "<div style=\"background-color: #D6B276; padding: 10px;\">\n",
    "Creating measure_table.\n",
    "</div>"
   ]
  },
  {
   "cell_type": "code",
   "execution_count": 61,
   "id": "739ec858-bffd-4345-a315-4624eb0c2470",
   "metadata": {
    "jupyter": {
     "source_hidden": true
    },
    "scrolled": true
   },
   "outputs": [
    {
     "name": "stdout",
     "output_type": "stream",
     "text": [
      "Number of unique measure:\u001b[1m 12\u001b[0m \n",
      "\n",
      "Trucks: 001\n",
      "Buses: 002\n",
      "Pedestrians: 003\n",
      "Personal Vehicle Passengers: 004\n",
      "Personal Vehicles: 005\n",
      "Bus Passengers: 006\n",
      "Truck Containers Loaded: 007\n",
      "Truck Containers Empty: 008\n",
      "Rail Containers Empty: 009\n",
      "Trains: 010\n",
      "Train Passengers: 011\n",
      "Rail Containers Loaded: 012\n"
     ]
    }
   ],
   "source": [
    "\n",
    "# Extracting unique values from measure column\n",
    "unique_measure = df['Measure'].unique()\n",
    "\n",
    "# Displaying the unique measure one below the other with the count\n",
    "print(f\"Number of unique measure:\\033[1m {len(unique_measure)}\\033[0m \\n\")\n",
    "\n",
    "# Creating a dictionary to map unique measure names to three-digit codes\n",
    "measure_codes = {measure: f\"{i+1:03}\" for i, measure in enumerate(unique_measure)}\n",
    "\n",
    "# Display the measure and their respective three-digit codes\n",
    "for measure, code in measure_codes.items():\n",
    "    print(f\"{measure}: {code}\")"
   ]
  },
  {
   "cell_type": "code",
   "execution_count": 62,
   "id": "62e99bdd-af63-4a86-b8a8-1fe02dee664f",
   "metadata": {
    "jupyter": {
     "source_hidden": true
    },
    "scrolled": true
   },
   "outputs": [
    {
     "name": "stdout",
     "output_type": "stream",
     "text": [
      "                           Name Code\n",
      "0                        Trucks  001\n",
      "1                         Buses  002\n",
      "2                   Pedestrians  003\n",
      "3   Personal Vehicle Passengers  004\n",
      "4             Personal Vehicles  005\n",
      "5                Bus Passengers  006\n",
      "6       Truck Containers Loaded  007\n",
      "7        Truck Containers Empty  008\n",
      "8         Rail Containers Empty  009\n",
      "9                        Trains  010\n",
      "10             Train Passengers  011\n",
      "11       Rail Containers Loaded  012\n"
     ]
    }
   ],
   "source": [
    "\n",
    "# Create a new DataFrame with two columns: 'Name' and 'Code'\n",
    "measure_table = pd.DataFrame(list(measure_codes.items()), columns=['Name', 'Code'])\n",
    "print(measure_table)"
   ]
  },
  {
   "cell_type": "code",
   "execution_count": 63,
   "id": "9fb05f38-c13e-448a-a18f-031d227db185",
   "metadata": {
    "jupyter": {
     "source_hidden": true
    }
   },
   "outputs": [
    {
     "name": "stdout",
     "output_type": "stream",
     "text": [
      "No duplicate measure names found.\n"
     ]
    }
   ],
   "source": [
    "\n",
    "# Find duplicate Measure Names\n",
    "duplicates = measure_table[measure_table.duplicated(subset=['Name'], keep=False)]\n",
    "\n",
    "if duplicates.empty:\n",
    "    print(\"No duplicate measure names found.\")\n",
    "else:\n",
    "    print(\"Duplicate measure names found:\")\n",
    "    print(duplicates)"
   ]
  },
  {
   "cell_type": "markdown",
   "id": "aef64b15-4f3d-4d0c-98a7-50970348534f",
   "metadata": {},
   "source": [
    "<div style=\"background-color: #D6B276; padding: 10px;\">\n",
    "Since, there is port code available in dataset for port there is no need to create a new code. <br> So, extracting unique portname and portcode from the original dataset and creating a new table.\n",
    "</div>"
   ]
  },
  {
   "cell_type": "code",
   "execution_count": 64,
   "id": "548e62fc-b73a-4fa3-8c49-605aab1b2500",
   "metadata": {
    "jupyter": {
     "source_hidden": true
    },
    "scrolled": true
   },
   "outputs": [
    {
     "data": {
      "text/html": [
       "<div>\n",
       "<style scoped>\n",
       "    .dataframe tbody tr th:only-of-type {\n",
       "        vertical-align: middle;\n",
       "    }\n",
       "\n",
       "    .dataframe tbody tr th {\n",
       "        vertical-align: top;\n",
       "    }\n",
       "\n",
       "    .dataframe thead th {\n",
       "        text-align: right;\n",
       "    }\n",
       "</style>\n",
       "<table border=\"1\" class=\"dataframe\">\n",
       "  <thead>\n",
       "    <tr style=\"text-align: right;\">\n",
       "      <th></th>\n",
       "      <th>Port Name</th>\n",
       "      <th>Port Code</th>\n",
       "    </tr>\n",
       "  </thead>\n",
       "  <tbody>\n",
       "    <tr>\n",
       "      <th>3917</th>\n",
       "      <td>Portland</td>\n",
       "      <td>101</td>\n",
       "    </tr>\n",
       "    <tr>\n",
       "      <th>131</th>\n",
       "      <td>Eastport</td>\n",
       "      <td>103</td>\n",
       "    </tr>\n",
       "    <tr>\n",
       "      <th>0</th>\n",
       "      <td>Jackman</td>\n",
       "      <td>104</td>\n",
       "    </tr>\n",
       "    <tr>\n",
       "      <th>39</th>\n",
       "      <td>Vanceboro</td>\n",
       "      <td>105</td>\n",
       "    </tr>\n",
       "    <tr>\n",
       "      <th>153</th>\n",
       "      <td>Houlton</td>\n",
       "      <td>106</td>\n",
       "    </tr>\n",
       "  </tbody>\n",
       "</table>\n",
       "</div>"
      ],
      "text/plain": [
       "      Port Name  Port Code\n",
       "3917   Portland        101\n",
       "131    Eastport        103\n",
       "0       Jackman        104\n",
       "39    Vanceboro        105\n",
       "153     Houlton        106"
      ]
     },
     "execution_count": 64,
     "metadata": {},
     "output_type": "execute_result"
    }
   ],
   "source": [
    "\n",
    "# Extracting unique values\n",
    "unique_ports = df[['Port Name', 'Port Code']].drop_duplicates()\n",
    "\n",
    "# Sort by PortCode\n",
    "unique_ports_sorted = unique_ports.sort_values(by='Port Code')\n",
    "\n",
    "#Creating new table for port names and code\n",
    "port_table = unique_ports.sort_values(by='Port Code')\n",
    "port_table.head()"
   ]
  },
  {
   "cell_type": "code",
   "execution_count": 65,
   "id": "70dc02d2-e2e7-4988-b031-b3cadee8b139",
   "metadata": {
    "jupyter": {
     "source_hidden": true
    }
   },
   "outputs": [
    {
     "name": "stdout",
     "output_type": "stream",
     "text": [
      "Duplicate port names found:\n",
      "    Port Name  Port Code\n",
      "131  Eastport        103\n",
      "54   Eastport       3302\n"
     ]
    }
   ],
   "source": [
    "\n",
    "# Find duplicate Port Names\n",
    "duplicates = port_table[port_table.duplicated(subset=['Port Name'], keep=False)]\n",
    "\n",
    "if duplicates.empty:\n",
    "    print(\"No duplicate port names found.\")\n",
    "else:\n",
    "    print(\"Duplicate port names found:\")\n",
    "    print(duplicates)"
   ]
  },
  {
   "cell_type": "code",
   "execution_count": 66,
   "id": "b55801e7-fba5-49c6-a40a-fdfeaca1a5d8",
   "metadata": {
    "jupyter": {
     "source_hidden": true
    }
   },
   "outputs": [
    {
     "data": {
      "text/html": [
       "<div>\n",
       "<style scoped>\n",
       "    .dataframe tbody tr th:only-of-type {\n",
       "        vertical-align: middle;\n",
       "    }\n",
       "\n",
       "    .dataframe tbody tr th {\n",
       "        vertical-align: top;\n",
       "    }\n",
       "\n",
       "    .dataframe thead th {\n",
       "        text-align: right;\n",
       "    }\n",
       "</style>\n",
       "<table border=\"1\" class=\"dataframe\">\n",
       "  <thead>\n",
       "    <tr style=\"text-align: right;\">\n",
       "      <th></th>\n",
       "      <th>State</th>\n",
       "      <th>Port Name</th>\n",
       "      <th>Port Code</th>\n",
       "    </tr>\n",
       "  </thead>\n",
       "  <tbody>\n",
       "    <tr>\n",
       "      <th>54</th>\n",
       "      <td>Idaho</td>\n",
       "      <td>Eastport</td>\n",
       "      <td>3302</td>\n",
       "    </tr>\n",
       "    <tr>\n",
       "      <th>131</th>\n",
       "      <td>Maine</td>\n",
       "      <td>Eastport</td>\n",
       "      <td>103</td>\n",
       "    </tr>\n",
       "  </tbody>\n",
       "</table>\n",
       "</div>"
      ],
      "text/plain": [
       "     State Port Name  Port Code\n",
       "54   Idaho  Eastport       3302\n",
       "131  Maine  Eastport        103"
      ]
     },
     "execution_count": 66,
     "metadata": {},
     "output_type": "execute_result"
    }
   ],
   "source": [
    "\n",
    "# Filter rows where Port Name is 'Eastport' (case-sensitive)\n",
    "filtered_df = df[df['Port Name'] == 'Eastport']\n",
    "\n",
    "# Select only the columns State, Port Name, and Port Code\n",
    "result = filtered_df[['State', 'Port Name', 'Port Code']].drop_duplicates()\n",
    "result"
   ]
  },
  {
   "cell_type": "code",
   "execution_count": 67,
   "id": "bab03d76-eceb-4fa5-8306-5c5f3a4b0ef9",
   "metadata": {
    "jupyter": {
     "source_hidden": true
    }
   },
   "outputs": [
    {
     "data": {
      "text/html": [
       "<div>\n",
       "<style scoped>\n",
       "    .dataframe tbody tr th:only-of-type {\n",
       "        vertical-align: middle;\n",
       "    }\n",
       "\n",
       "    .dataframe tbody tr th {\n",
       "        vertical-align: top;\n",
       "    }\n",
       "\n",
       "    .dataframe thead th {\n",
       "        text-align: right;\n",
       "    }\n",
       "</style>\n",
       "<table border=\"1\" class=\"dataframe\">\n",
       "  <thead>\n",
       "    <tr style=\"text-align: right;\">\n",
       "      <th></th>\n",
       "      <th>Port Name</th>\n",
       "      <th>Port Code</th>\n",
       "    </tr>\n",
       "  </thead>\n",
       "  <tbody>\n",
       "    <tr>\n",
       "      <th>3917</th>\n",
       "      <td>Portland</td>\n",
       "      <td>101</td>\n",
       "    </tr>\n",
       "    <tr>\n",
       "      <th>131</th>\n",
       "      <td>Eastport_ME</td>\n",
       "      <td>103</td>\n",
       "    </tr>\n",
       "    <tr>\n",
       "      <th>0</th>\n",
       "      <td>Jackman</td>\n",
       "      <td>104</td>\n",
       "    </tr>\n",
       "    <tr>\n",
       "      <th>39</th>\n",
       "      <td>Vanceboro</td>\n",
       "      <td>105</td>\n",
       "    </tr>\n",
       "    <tr>\n",
       "      <th>153</th>\n",
       "      <td>Houlton</td>\n",
       "      <td>106</td>\n",
       "    </tr>\n",
       "  </tbody>\n",
       "</table>\n",
       "</div>"
      ],
      "text/plain": [
       "        Port Name  Port Code\n",
       "3917     Portland        101\n",
       "131   Eastport_ME        103\n",
       "0         Jackman        104\n",
       "39      Vanceboro        105\n",
       "153       Houlton        106"
      ]
     },
     "execution_count": 67,
     "metadata": {},
     "output_type": "execute_result"
    }
   ],
   "source": [
    "\n",
    "# Replace 'Eastport' with 'Eastport_ID' where Port Code is 3302\n",
    "port_table.loc[(port_table['Port Name'] == 'Eastport') & (port_table['Port Code'] == 3302), 'Port Name'] = 'Eastport_ID'\n",
    "\n",
    "# Replace 'Eastport' with 'Eastport_ME' where Port Code is 103\n",
    "port_table.loc[(port_table['Port Name'] == 'Eastport') & (port_table['Port Code'] == 103), 'Port Name'] = 'Eastport_ME'\n",
    "\n",
    "# Display updated dataframe\n",
    "port_table.head()\n"
   ]
  },
  {
   "cell_type": "markdown",
   "id": "2d40f334-6110-4432-ab5f-91eb3153a2f5",
   "metadata": {},
   "source": [
    "<div style=\"background-color: #D6B276; padding: 10px;\">\n",
    "Generating <b>state abbreviations</b> in state_table for visualizations.\n",
    "</div>"
   ]
  },
  {
   "cell_type": "code",
   "execution_count": 68,
   "id": "8a07f526-3eec-452e-81a5-c1cb79aaa26c",
   "metadata": {
    "jupyter": {
     "source_hidden": true
    },
    "scrolled": true
   },
   "outputs": [
    {
     "data": {
      "text/html": [
       "<div>\n",
       "<style scoped>\n",
       "    .dataframe tbody tr th:only-of-type {\n",
       "        vertical-align: middle;\n",
       "    }\n",
       "\n",
       "    .dataframe tbody tr th {\n",
       "        vertical-align: top;\n",
       "    }\n",
       "\n",
       "    .dataframe thead th {\n",
       "        text-align: right;\n",
       "    }\n",
       "</style>\n",
       "<table border=\"1\" class=\"dataframe\">\n",
       "  <thead>\n",
       "    <tr style=\"text-align: right;\">\n",
       "      <th></th>\n",
       "      <th>Name</th>\n",
       "      <th>Code</th>\n",
       "      <th>Abbr</th>\n",
       "    </tr>\n",
       "  </thead>\n",
       "  <tbody>\n",
       "    <tr>\n",
       "      <th>0</th>\n",
       "      <td>Maine</td>\n",
       "      <td>001</td>\n",
       "      <td>ME</td>\n",
       "    </tr>\n",
       "    <tr>\n",
       "      <th>1</th>\n",
       "      <td>Idaho</td>\n",
       "      <td>002</td>\n",
       "      <td>ID</td>\n",
       "    </tr>\n",
       "    <tr>\n",
       "      <th>2</th>\n",
       "      <td>Arizona</td>\n",
       "      <td>003</td>\n",
       "      <td>AZ</td>\n",
       "    </tr>\n",
       "    <tr>\n",
       "      <th>3</th>\n",
       "      <td>Montana</td>\n",
       "      <td>004</td>\n",
       "      <td>MT</td>\n",
       "    </tr>\n",
       "    <tr>\n",
       "      <th>4</th>\n",
       "      <td>Minnesota</td>\n",
       "      <td>005</td>\n",
       "      <td>MN</td>\n",
       "    </tr>\n",
       "    <tr>\n",
       "      <th>5</th>\n",
       "      <td>Texas</td>\n",
       "      <td>006</td>\n",
       "      <td>TX</td>\n",
       "    </tr>\n",
       "    <tr>\n",
       "      <th>6</th>\n",
       "      <td>North Dakota</td>\n",
       "      <td>007</td>\n",
       "      <td>ND</td>\n",
       "    </tr>\n",
       "    <tr>\n",
       "      <th>7</th>\n",
       "      <td>Washington</td>\n",
       "      <td>008</td>\n",
       "      <td>WA</td>\n",
       "    </tr>\n",
       "    <tr>\n",
       "      <th>8</th>\n",
       "      <td>Alaska</td>\n",
       "      <td>009</td>\n",
       "      <td>AK</td>\n",
       "    </tr>\n",
       "    <tr>\n",
       "      <th>9</th>\n",
       "      <td>California</td>\n",
       "      <td>010</td>\n",
       "      <td>CA</td>\n",
       "    </tr>\n",
       "    <tr>\n",
       "      <th>10</th>\n",
       "      <td>Michigan</td>\n",
       "      <td>011</td>\n",
       "      <td>MI</td>\n",
       "    </tr>\n",
       "    <tr>\n",
       "      <th>11</th>\n",
       "      <td>New York</td>\n",
       "      <td>012</td>\n",
       "      <td>NY</td>\n",
       "    </tr>\n",
       "    <tr>\n",
       "      <th>12</th>\n",
       "      <td>New Mexico</td>\n",
       "      <td>013</td>\n",
       "      <td>NM</td>\n",
       "    </tr>\n",
       "    <tr>\n",
       "      <th>13</th>\n",
       "      <td>Vermont</td>\n",
       "      <td>014</td>\n",
       "      <td>VT</td>\n",
       "    </tr>\n",
       "  </tbody>\n",
       "</table>\n",
       "</div>"
      ],
      "text/plain": [
       "            Name Code Abbr\n",
       "0          Maine  001   ME\n",
       "1          Idaho  002   ID\n",
       "2        Arizona  003   AZ\n",
       "3        Montana  004   MT\n",
       "4      Minnesota  005   MN\n",
       "5          Texas  006   TX\n",
       "6   North Dakota  007   ND\n",
       "7     Washington  008   WA\n",
       "8         Alaska  009   AK\n",
       "9     California  010   CA\n",
       "10      Michigan  011   MI\n",
       "11      New York  012   NY\n",
       "12    New Mexico  013   NM\n",
       "13       Vermont  014   VT"
      ]
     },
     "execution_count": 68,
     "metadata": {},
     "output_type": "execute_result"
    }
   ],
   "source": [
    "\n",
    "# Dictionary of state abbreviations\n",
    "state_abbr = {\n",
    "    \"Maine\": \"ME\",\n",
    "    \"Idaho\": \"ID\",\n",
    "    \"Arizona\": \"AZ\",\n",
    "    \"Montana\": \"MT\",\n",
    "    \"Minnesota\": \"MN\",\n",
    "    \"Texas\": \"TX\",\n",
    "    \"North Dakota\": \"ND\",\n",
    "    \"Washington\": \"WA\",\n",
    "    \"Alaska\": \"AK\",\n",
    "    \"California\": \"CA\",\n",
    "    \"Michigan\": \"MI\",\n",
    "    \"New York\": \"NY\",\n",
    "    \"New Mexico\": \"NM\",\n",
    "    \"Vermont\": \"VT\"\n",
    "}\n",
    "\n",
    "# Add new column 'Abbr' by mapping 'Name' column\n",
    "state_table['Abbr'] = state_table['Name'].map(state_abbr)\n",
    "\n",
    "# Display result\n",
    "state_table.head(20)"
   ]
  },
  {
   "cell_type": "markdown",
   "id": "72f0a43e-21f4-44dd-b50a-882996e775f4",
   "metadata": {},
   "source": [
    "<div style=\"background-color: #D6B276; padding: 10px;\">\n",
    "Generating <b>state co-ordinates</b> in state_table for visualizations.\n",
    "</div>"
   ]
  },
  {
   "cell_type": "code",
   "execution_count": 69,
   "id": "55d5fb11-b249-489a-9d45-446f384a7bfc",
   "metadata": {
    "jupyter": {
     "source_hidden": true
    },
    "scrolled": true
   },
   "outputs": [
    {
     "data": {
      "text/html": [
       "<div>\n",
       "<style scoped>\n",
       "    .dataframe tbody tr th:only-of-type {\n",
       "        vertical-align: middle;\n",
       "    }\n",
       "\n",
       "    .dataframe tbody tr th {\n",
       "        vertical-align: top;\n",
       "    }\n",
       "\n",
       "    .dataframe thead th {\n",
       "        text-align: right;\n",
       "    }\n",
       "</style>\n",
       "<table border=\"1\" class=\"dataframe\">\n",
       "  <thead>\n",
       "    <tr style=\"text-align: right;\">\n",
       "      <th></th>\n",
       "      <th>Name</th>\n",
       "      <th>Code</th>\n",
       "      <th>Abbr</th>\n",
       "      <th>Latitude</th>\n",
       "      <th>Longitude</th>\n",
       "    </tr>\n",
       "  </thead>\n",
       "  <tbody>\n",
       "    <tr>\n",
       "      <th>0</th>\n",
       "      <td>Maine</td>\n",
       "      <td>001</td>\n",
       "      <td>ME</td>\n",
       "      <td>44.6937</td>\n",
       "      <td>-69.3819</td>\n",
       "    </tr>\n",
       "    <tr>\n",
       "      <th>1</th>\n",
       "      <td>Idaho</td>\n",
       "      <td>002</td>\n",
       "      <td>ID</td>\n",
       "      <td>44.0682</td>\n",
       "      <td>-114.7420</td>\n",
       "    </tr>\n",
       "    <tr>\n",
       "      <th>2</th>\n",
       "      <td>Arizona</td>\n",
       "      <td>003</td>\n",
       "      <td>AZ</td>\n",
       "      <td>34.0489</td>\n",
       "      <td>-111.0937</td>\n",
       "    </tr>\n",
       "    <tr>\n",
       "      <th>3</th>\n",
       "      <td>Montana</td>\n",
       "      <td>004</td>\n",
       "      <td>MT</td>\n",
       "      <td>46.8797</td>\n",
       "      <td>-110.3626</td>\n",
       "    </tr>\n",
       "    <tr>\n",
       "      <th>4</th>\n",
       "      <td>Minnesota</td>\n",
       "      <td>005</td>\n",
       "      <td>MN</td>\n",
       "      <td>46.7296</td>\n",
       "      <td>-94.6859</td>\n",
       "    </tr>\n",
       "    <tr>\n",
       "      <th>5</th>\n",
       "      <td>Texas</td>\n",
       "      <td>006</td>\n",
       "      <td>TX</td>\n",
       "      <td>31.9686</td>\n",
       "      <td>-99.9018</td>\n",
       "    </tr>\n",
       "    <tr>\n",
       "      <th>6</th>\n",
       "      <td>North Dakota</td>\n",
       "      <td>007</td>\n",
       "      <td>ND</td>\n",
       "      <td>47.5515</td>\n",
       "      <td>-101.0020</td>\n",
       "    </tr>\n",
       "    <tr>\n",
       "      <th>7</th>\n",
       "      <td>Washington</td>\n",
       "      <td>008</td>\n",
       "      <td>WA</td>\n",
       "      <td>47.7511</td>\n",
       "      <td>-120.7401</td>\n",
       "    </tr>\n",
       "    <tr>\n",
       "      <th>8</th>\n",
       "      <td>Alaska</td>\n",
       "      <td>009</td>\n",
       "      <td>AK</td>\n",
       "      <td>61.3850</td>\n",
       "      <td>-152.2683</td>\n",
       "    </tr>\n",
       "    <tr>\n",
       "      <th>9</th>\n",
       "      <td>California</td>\n",
       "      <td>010</td>\n",
       "      <td>CA</td>\n",
       "      <td>36.7783</td>\n",
       "      <td>-119.4179</td>\n",
       "    </tr>\n",
       "    <tr>\n",
       "      <th>10</th>\n",
       "      <td>Michigan</td>\n",
       "      <td>011</td>\n",
       "      <td>MI</td>\n",
       "      <td>44.3148</td>\n",
       "      <td>-85.6024</td>\n",
       "    </tr>\n",
       "    <tr>\n",
       "      <th>11</th>\n",
       "      <td>New York</td>\n",
       "      <td>012</td>\n",
       "      <td>NY</td>\n",
       "      <td>40.7128</td>\n",
       "      <td>-74.0060</td>\n",
       "    </tr>\n",
       "    <tr>\n",
       "      <th>12</th>\n",
       "      <td>New Mexico</td>\n",
       "      <td>013</td>\n",
       "      <td>NM</td>\n",
       "      <td>34.5199</td>\n",
       "      <td>-105.8701</td>\n",
       "    </tr>\n",
       "    <tr>\n",
       "      <th>13</th>\n",
       "      <td>Vermont</td>\n",
       "      <td>014</td>\n",
       "      <td>VT</td>\n",
       "      <td>44.5588</td>\n",
       "      <td>-72.5778</td>\n",
       "    </tr>\n",
       "  </tbody>\n",
       "</table>\n",
       "</div>"
      ],
      "text/plain": [
       "            Name Code Abbr  Latitude  Longitude\n",
       "0          Maine  001   ME   44.6937   -69.3819\n",
       "1          Idaho  002   ID   44.0682  -114.7420\n",
       "2        Arizona  003   AZ   34.0489  -111.0937\n",
       "3        Montana  004   MT   46.8797  -110.3626\n",
       "4      Minnesota  005   MN   46.7296   -94.6859\n",
       "5          Texas  006   TX   31.9686   -99.9018\n",
       "6   North Dakota  007   ND   47.5515  -101.0020\n",
       "7     Washington  008   WA   47.7511  -120.7401\n",
       "8         Alaska  009   AK   61.3850  -152.2683\n",
       "9     California  010   CA   36.7783  -119.4179\n",
       "10      Michigan  011   MI   44.3148   -85.6024\n",
       "11      New York  012   NY   40.7128   -74.0060\n",
       "12    New Mexico  013   NM   34.5199  -105.8701\n",
       "13       Vermont  014   VT   44.5588   -72.5778"
      ]
     },
     "execution_count": 69,
     "metadata": {},
     "output_type": "execute_result"
    }
   ],
   "source": [
    "\n",
    "# Dictionary of state abbreviations and their coordinates\n",
    "state_coordinates = {\n",
    "    \"ME\": {\"lat\": 44.6937, \"lon\": -69.3819},\n",
    "    \"ID\": {\"lat\": 44.0682, \"lon\": -114.7420},\n",
    "    \"AZ\": {\"lat\": 34.0489, \"lon\": -111.0937},\n",
    "    \"MT\": {\"lat\": 46.8797, \"lon\": -110.3626},\n",
    "    \"MN\": {\"lat\": 46.7296, \"lon\": -94.6859},\n",
    "    \"TX\": {\"lat\": 31.9686, \"lon\": -99.9018},\n",
    "    \"ND\": {\"lat\": 47.5515, \"lon\": -101.0020},\n",
    "    \"WA\": {\"lat\": 47.7511, \"lon\": -120.7401},\n",
    "    \"AK\": {\"lat\": 61.3850, \"lon\": -152.2683},\n",
    "    \"CA\": {\"lat\": 36.7783, \"lon\": -119.4179},\n",
    "    \"MI\": {\"lat\": 44.3148, \"lon\": -85.6024},\n",
    "    \"NY\": {\"lat\": 40.7128, \"lon\": -74.0060},\n",
    "    \"NM\": {\"lat\": 34.5199, \"lon\": -105.8701},\n",
    "    \"VT\": {\"lat\": 44.5588, \"lon\": -72.5778}\n",
    "}\n",
    "\n",
    "# Add the Latitude and Longitude columns to the state_table using the Abbr as key\n",
    "state_table['Latitude'] = state_table['Abbr'].map(lambda abbr: state_coordinates[abbr]['lat'])\n",
    "state_table['Longitude'] = state_table['Abbr'].map(lambda abbr: state_coordinates[abbr]['lon'])\n",
    "\n",
    "# Display the updated table\n",
    "state_table.head(20)"
   ]
  },
  {
   "cell_type": "markdown",
   "id": "248840f0-9fd4-4459-84c2-baab82baa48f",
   "metadata": {},
   "source": [
    "<div style=\"background-color: #D6B276; padding: 10px;\">\n",
    "<b> Creating month_table for month mapping dictionary. <b>\n",
    "</b>"
   ]
  },
  {
   "cell_type": "code",
   "execution_count": 70,
   "id": "f92f9d3f-4bf7-4ce3-a74e-4fa86ac7e242",
   "metadata": {
    "jupyter": {
     "source_hidden": true
    },
    "scrolled": true
   },
   "outputs": [
    {
     "data": {
      "text/html": [
       "<div>\n",
       "<style scoped>\n",
       "    .dataframe tbody tr th:only-of-type {\n",
       "        vertical-align: middle;\n",
       "    }\n",
       "\n",
       "    .dataframe tbody tr th {\n",
       "        vertical-align: top;\n",
       "    }\n",
       "\n",
       "    .dataframe thead th {\n",
       "        text-align: right;\n",
       "    }\n",
       "</style>\n",
       "<table border=\"1\" class=\"dataframe\">\n",
       "  <thead>\n",
       "    <tr style=\"text-align: right;\">\n",
       "      <th></th>\n",
       "      <th>Month</th>\n",
       "      <th>Month_Number</th>\n",
       "    </tr>\n",
       "  </thead>\n",
       "  <tbody>\n",
       "    <tr>\n",
       "      <th>0</th>\n",
       "      <td>January</td>\n",
       "      <td>01</td>\n",
       "    </tr>\n",
       "    <tr>\n",
       "      <th>1</th>\n",
       "      <td>February</td>\n",
       "      <td>02</td>\n",
       "    </tr>\n",
       "    <tr>\n",
       "      <th>2</th>\n",
       "      <td>March</td>\n",
       "      <td>03</td>\n",
       "    </tr>\n",
       "    <tr>\n",
       "      <th>3</th>\n",
       "      <td>April</td>\n",
       "      <td>04</td>\n",
       "    </tr>\n",
       "    <tr>\n",
       "      <th>4</th>\n",
       "      <td>May</td>\n",
       "      <td>05</td>\n",
       "    </tr>\n",
       "    <tr>\n",
       "      <th>5</th>\n",
       "      <td>June</td>\n",
       "      <td>06</td>\n",
       "    </tr>\n",
       "    <tr>\n",
       "      <th>6</th>\n",
       "      <td>July</td>\n",
       "      <td>07</td>\n",
       "    </tr>\n",
       "    <tr>\n",
       "      <th>7</th>\n",
       "      <td>August</td>\n",
       "      <td>08</td>\n",
       "    </tr>\n",
       "    <tr>\n",
       "      <th>8</th>\n",
       "      <td>September</td>\n",
       "      <td>09</td>\n",
       "    </tr>\n",
       "    <tr>\n",
       "      <th>9</th>\n",
       "      <td>October</td>\n",
       "      <td>10</td>\n",
       "    </tr>\n",
       "    <tr>\n",
       "      <th>10</th>\n",
       "      <td>November</td>\n",
       "      <td>11</td>\n",
       "    </tr>\n",
       "    <tr>\n",
       "      <th>11</th>\n",
       "      <td>December</td>\n",
       "      <td>12</td>\n",
       "    </tr>\n",
       "  </tbody>\n",
       "</table>\n",
       "</div>"
      ],
      "text/plain": [
       "        Month Month_Number\n",
       "0     January           01\n",
       "1    February           02\n",
       "2       March           03\n",
       "3       April           04\n",
       "4         May           05\n",
       "5        June           06\n",
       "6        July           07\n",
       "7      August           08\n",
       "8   September           09\n",
       "9     October           10\n",
       "10   November           11\n",
       "11   December           12"
      ]
     },
     "execution_count": 70,
     "metadata": {},
     "output_type": "execute_result"
    }
   ],
   "source": [
    "\n",
    "month_mapping = {\n",
    "    'January': '01',\n",
    "    'February': '02',\n",
    "    'March': '03',\n",
    "    'April': '04',\n",
    "    'May': '05',\n",
    "    'June': '06',\n",
    "    'July': '07',\n",
    "    'August': '08',\n",
    "    'September': '09',\n",
    "    'October': '10',\n",
    "    'November': '11',\n",
    "    'December': '12'\n",
    "}\n",
    "\n",
    "month_table = pd.DataFrame(list(month_mapping.items()), columns=['Month', 'Month_Number'])\n",
    "\n",
    "month_table"
   ]
  },
  {
   "cell_type": "markdown",
   "id": "939fb811-2c93-4ecb-8611-05335531b1da",
   "metadata": {},
   "source": [
    "<div style=\"background-color: #D6B276; padding: 10px;\">\n",
    "<h3> Feature Engineering </h3><br>\n",
    "</div>\n",
    "<div style=\"background-color: #D6B276; padding: 10px;\">\n",
    "Merging the newly created codes for state, border and measure into the working dataset.<br>\n",
    "Starting by creating a copy of original dataframe and working on it before deleting.\n",
    "</div>"
   ]
  },
  {
   "cell_type": "code",
   "execution_count": 71,
   "id": "1fc0f07a-b367-4f02-972c-a7c0dd08a049",
   "metadata": {
    "jupyter": {
     "source_hidden": true
    },
    "scrolled": true
   },
   "outputs": [
    {
     "data": {
      "text/html": [
       "<div>\n",
       "<style scoped>\n",
       "    .dataframe tbody tr th:only-of-type {\n",
       "        vertical-align: middle;\n",
       "    }\n",
       "\n",
       "    .dataframe tbody tr th {\n",
       "        vertical-align: top;\n",
       "    }\n",
       "\n",
       "    .dataframe thead th {\n",
       "        text-align: right;\n",
       "    }\n",
       "</style>\n",
       "<table border=\"1\" class=\"dataframe\">\n",
       "  <thead>\n",
       "    <tr style=\"text-align: right;\">\n",
       "      <th></th>\n",
       "      <th>Port Name</th>\n",
       "      <th>State</th>\n",
       "      <th>Port Code</th>\n",
       "      <th>Border</th>\n",
       "      <th>Date</th>\n",
       "      <th>Measure</th>\n",
       "      <th>Value</th>\n",
       "      <th>Latitude</th>\n",
       "      <th>Longitude</th>\n",
       "      <th>Point</th>\n",
       "      <th>Month</th>\n",
       "      <th>Year</th>\n",
       "    </tr>\n",
       "  </thead>\n",
       "  <tbody>\n",
       "    <tr>\n",
       "      <th>0</th>\n",
       "      <td>Jackman</td>\n",
       "      <td>Maine</td>\n",
       "      <td>104</td>\n",
       "      <td>US-Canada Border</td>\n",
       "      <td>2024-01-01</td>\n",
       "      <td>Trucks</td>\n",
       "      <td>6556</td>\n",
       "      <td>45.806</td>\n",
       "      <td>-70.397</td>\n",
       "      <td>POINT (-70.396722 45.805661)</td>\n",
       "      <td>1</td>\n",
       "      <td>2024</td>\n",
       "    </tr>\n",
       "    <tr>\n",
       "      <th>1</th>\n",
       "      <td>Porthill</td>\n",
       "      <td>Idaho</td>\n",
       "      <td>3308</td>\n",
       "      <td>US-Canada Border</td>\n",
       "      <td>2024-04-01</td>\n",
       "      <td>Trucks</td>\n",
       "      <td>98</td>\n",
       "      <td>49.000</td>\n",
       "      <td>-116.499</td>\n",
       "      <td>POINT (-116.49925 48.999861)</td>\n",
       "      <td>4</td>\n",
       "      <td>2024</td>\n",
       "    </tr>\n",
       "    <tr>\n",
       "      <th>2</th>\n",
       "      <td>San Luis</td>\n",
       "      <td>Arizona</td>\n",
       "      <td>2608</td>\n",
       "      <td>US-Mexico Border</td>\n",
       "      <td>2024-04-01</td>\n",
       "      <td>Buses</td>\n",
       "      <td>10</td>\n",
       "      <td>32.485</td>\n",
       "      <td>-114.782</td>\n",
       "      <td>POINT (-114.7822222 32.485)</td>\n",
       "      <td>4</td>\n",
       "      <td>2024</td>\n",
       "    </tr>\n",
       "    <tr>\n",
       "      <th>3</th>\n",
       "      <td>Willow Creek</td>\n",
       "      <td>Montana</td>\n",
       "      <td>3325</td>\n",
       "      <td>US-Canada Border</td>\n",
       "      <td>2024-01-01</td>\n",
       "      <td>Pedestrians</td>\n",
       "      <td>2</td>\n",
       "      <td>49.000</td>\n",
       "      <td>-109.731</td>\n",
       "      <td>POINT (-109.731333 48.999972)</td>\n",
       "      <td>1</td>\n",
       "      <td>2024</td>\n",
       "    </tr>\n",
       "    <tr>\n",
       "      <th>4</th>\n",
       "      <td>Warroad</td>\n",
       "      <td>Minnesota</td>\n",
       "      <td>3423</td>\n",
       "      <td>US-Canada Border</td>\n",
       "      <td>2024-01-01</td>\n",
       "      <td>Personal Vehicle Passengers</td>\n",
       "      <td>9266</td>\n",
       "      <td>48.999</td>\n",
       "      <td>-95.377</td>\n",
       "      <td>POINT (-95.376555 48.999)</td>\n",
       "      <td>1</td>\n",
       "      <td>2024</td>\n",
       "    </tr>\n",
       "  </tbody>\n",
       "</table>\n",
       "</div>"
      ],
      "text/plain": [
       "      Port Name      State  Port Code            Border       Date  \\\n",
       "0       Jackman      Maine        104  US-Canada Border 2024-01-01   \n",
       "1      Porthill      Idaho       3308  US-Canada Border 2024-04-01   \n",
       "2      San Luis    Arizona       2608  US-Mexico Border 2024-04-01   \n",
       "3  Willow Creek    Montana       3325  US-Canada Border 2024-01-01   \n",
       "4       Warroad  Minnesota       3423  US-Canada Border 2024-01-01   \n",
       "\n",
       "                       Measure  Value  Latitude  Longitude  \\\n",
       "0                       Trucks   6556    45.806    -70.397   \n",
       "1                       Trucks     98    49.000   -116.499   \n",
       "2                        Buses     10    32.485   -114.782   \n",
       "3                  Pedestrians      2    49.000   -109.731   \n",
       "4  Personal Vehicle Passengers   9266    48.999    -95.377   \n",
       "\n",
       "                           Point  Month  Year  \n",
       "0   POINT (-70.396722 45.805661)      1  2024  \n",
       "1   POINT (-116.49925 48.999861)      4  2024  \n",
       "2    POINT (-114.7822222 32.485)      4  2024  \n",
       "3  POINT (-109.731333 48.999972)      1  2024  \n",
       "4      POINT (-95.376555 48.999)      1  2024  "
      ]
     },
     "execution_count": 71,
     "metadata": {},
     "output_type": "execute_result"
    }
   ],
   "source": [
    "\n",
    "# Create a copy of the original DataFrame and name it 'refined_df'\n",
    "refined_df = df.copy()\n",
    "\n",
    "# Display the new DataFrame to confirm\n",
    "refined_df.head()"
   ]
  },
  {
   "cell_type": "markdown",
   "id": "3fabc460-567f-46e2-a408-e65668508435",
   "metadata": {},
   "source": [
    "<div style=\"background-color: #D6B276; padding: 10px;\">\n",
    "Merging State_code with the working dataset.\n",
    "</div>"
   ]
  },
  {
   "cell_type": "code",
   "execution_count": 72,
   "id": "c4c8f861-3b79-4dce-81a1-8378f5852f23",
   "metadata": {
    "jupyter": {
     "source_hidden": true
    },
    "scrolled": true
   },
   "outputs": [
    {
     "data": {
      "text/html": [
       "<div>\n",
       "<style scoped>\n",
       "    .dataframe tbody tr th:only-of-type {\n",
       "        vertical-align: middle;\n",
       "    }\n",
       "\n",
       "    .dataframe tbody tr th {\n",
       "        vertical-align: top;\n",
       "    }\n",
       "\n",
       "    .dataframe thead th {\n",
       "        text-align: right;\n",
       "    }\n",
       "</style>\n",
       "<table border=\"1\" class=\"dataframe\">\n",
       "  <thead>\n",
       "    <tr style=\"text-align: right;\">\n",
       "      <th></th>\n",
       "      <th>Port Name</th>\n",
       "      <th>State</th>\n",
       "      <th>Port Code</th>\n",
       "      <th>Border</th>\n",
       "      <th>Date</th>\n",
       "      <th>Measure</th>\n",
       "      <th>Value</th>\n",
       "      <th>Latitude</th>\n",
       "      <th>Longitude</th>\n",
       "      <th>Point</th>\n",
       "      <th>Month</th>\n",
       "      <th>Year</th>\n",
       "      <th>State_Code</th>\n",
       "    </tr>\n",
       "  </thead>\n",
       "  <tbody>\n",
       "    <tr>\n",
       "      <th>0</th>\n",
       "      <td>Jackman</td>\n",
       "      <td>Maine</td>\n",
       "      <td>104</td>\n",
       "      <td>US-Canada Border</td>\n",
       "      <td>2024-01-01</td>\n",
       "      <td>Trucks</td>\n",
       "      <td>6556</td>\n",
       "      <td>45.806</td>\n",
       "      <td>-70.397</td>\n",
       "      <td>POINT (-70.396722 45.805661)</td>\n",
       "      <td>1</td>\n",
       "      <td>2024</td>\n",
       "      <td>001</td>\n",
       "    </tr>\n",
       "    <tr>\n",
       "      <th>1</th>\n",
       "      <td>Porthill</td>\n",
       "      <td>Idaho</td>\n",
       "      <td>3308</td>\n",
       "      <td>US-Canada Border</td>\n",
       "      <td>2024-04-01</td>\n",
       "      <td>Trucks</td>\n",
       "      <td>98</td>\n",
       "      <td>49.000</td>\n",
       "      <td>-116.499</td>\n",
       "      <td>POINT (-116.49925 48.999861)</td>\n",
       "      <td>4</td>\n",
       "      <td>2024</td>\n",
       "      <td>002</td>\n",
       "    </tr>\n",
       "  </tbody>\n",
       "</table>\n",
       "</div>"
      ],
      "text/plain": [
       "  Port Name  State  Port Code            Border       Date Measure  Value  \\\n",
       "0   Jackman  Maine        104  US-Canada Border 2024-01-01  Trucks   6556   \n",
       "1  Porthill  Idaho       3308  US-Canada Border 2024-04-01  Trucks     98   \n",
       "\n",
       "   Latitude  Longitude                         Point  Month  Year State_Code  \n",
       "0    45.806    -70.397  POINT (-70.396722 45.805661)      1  2024        001  \n",
       "1    49.000   -116.499  POINT (-116.49925 48.999861)      4  2024        002  "
      ]
     },
     "execution_count": 72,
     "metadata": {},
     "output_type": "execute_result"
    }
   ],
   "source": [
    "\n",
    "# Mapping state_table has the columns 'Name' and 'Code'\n",
    "state_table.rename(columns={'Name': 'State', 'Code': 'State_Code'}, inplace=True)\n",
    "\n",
    "# Merge the refined_df with state_table based on 'State' column\n",
    "refined_df = pd.merge(refined_df, state_table[['State', 'State_Code']], on='State', how='left')\n",
    "\n",
    "# Display the updated refined_df\n",
    "refined_df.head(2)"
   ]
  },
  {
   "cell_type": "markdown",
   "id": "ef7e8369-c071-45a2-adc3-18d013f1be65",
   "metadata": {},
   "source": [
    "<div style=\"background-color: #D6B276; padding: 10px;\">\n",
    "Merging border_code with the working dataset.\n",
    "</div>"
   ]
  },
  {
   "cell_type": "code",
   "execution_count": 73,
   "id": "9f7cc184-150e-4f5c-be98-a79a41211541",
   "metadata": {
    "jupyter": {
     "source_hidden": true
    },
    "scrolled": true
   },
   "outputs": [
    {
     "data": {
      "text/html": [
       "<div>\n",
       "<style scoped>\n",
       "    .dataframe tbody tr th:only-of-type {\n",
       "        vertical-align: middle;\n",
       "    }\n",
       "\n",
       "    .dataframe tbody tr th {\n",
       "        vertical-align: top;\n",
       "    }\n",
       "\n",
       "    .dataframe thead th {\n",
       "        text-align: right;\n",
       "    }\n",
       "</style>\n",
       "<table border=\"1\" class=\"dataframe\">\n",
       "  <thead>\n",
       "    <tr style=\"text-align: right;\">\n",
       "      <th></th>\n",
       "      <th>Port Name</th>\n",
       "      <th>State</th>\n",
       "      <th>Port Code</th>\n",
       "      <th>Border</th>\n",
       "      <th>Date</th>\n",
       "      <th>Measure</th>\n",
       "      <th>Value</th>\n",
       "      <th>Latitude</th>\n",
       "      <th>Longitude</th>\n",
       "      <th>Point</th>\n",
       "      <th>Month</th>\n",
       "      <th>Year</th>\n",
       "      <th>State_Code</th>\n",
       "      <th>Border_Code</th>\n",
       "    </tr>\n",
       "  </thead>\n",
       "  <tbody>\n",
       "    <tr>\n",
       "      <th>0</th>\n",
       "      <td>Jackman</td>\n",
       "      <td>Maine</td>\n",
       "      <td>104</td>\n",
       "      <td>US-Canada Border</td>\n",
       "      <td>2024-01-01</td>\n",
       "      <td>Trucks</td>\n",
       "      <td>6556</td>\n",
       "      <td>45.806</td>\n",
       "      <td>-70.397</td>\n",
       "      <td>POINT (-70.396722 45.805661)</td>\n",
       "      <td>1</td>\n",
       "      <td>2024</td>\n",
       "      <td>001</td>\n",
       "      <td>001</td>\n",
       "    </tr>\n",
       "    <tr>\n",
       "      <th>1</th>\n",
       "      <td>Porthill</td>\n",
       "      <td>Idaho</td>\n",
       "      <td>3308</td>\n",
       "      <td>US-Canada Border</td>\n",
       "      <td>2024-04-01</td>\n",
       "      <td>Trucks</td>\n",
       "      <td>98</td>\n",
       "      <td>49.000</td>\n",
       "      <td>-116.499</td>\n",
       "      <td>POINT (-116.49925 48.999861)</td>\n",
       "      <td>4</td>\n",
       "      <td>2024</td>\n",
       "      <td>002</td>\n",
       "      <td>001</td>\n",
       "    </tr>\n",
       "  </tbody>\n",
       "</table>\n",
       "</div>"
      ],
      "text/plain": [
       "  Port Name  State  Port Code            Border       Date Measure  Value  \\\n",
       "0   Jackman  Maine        104  US-Canada Border 2024-01-01  Trucks   6556   \n",
       "1  Porthill  Idaho       3308  US-Canada Border 2024-04-01  Trucks     98   \n",
       "\n",
       "   Latitude  Longitude                         Point  Month  Year State_Code  \\\n",
       "0    45.806    -70.397  POINT (-70.396722 45.805661)      1  2024        001   \n",
       "1    49.000   -116.499  POINT (-116.49925 48.999861)      4  2024        002   \n",
       "\n",
       "  Border_Code  \n",
       "0         001  \n",
       "1         001  "
      ]
     },
     "execution_count": 73,
     "metadata": {},
     "output_type": "execute_result"
    }
   ],
   "source": [
    "\n",
    "# Assuming border_code has the columns 'Name' and 'Code'\n",
    "border_table.rename(columns={'Name': 'Border', 'Code': 'Border_Code'}, inplace=True)\n",
    "\n",
    "# Merge the refined_df with border_table based on 'Border' column\n",
    "refined_df = pd.merge(refined_df, border_table[['Border', 'Border_Code']], on='Border', how='left')\n",
    "\n",
    "# Display the updated refined_df\n",
    "refined_df.head(2)"
   ]
  },
  {
   "cell_type": "markdown",
   "id": "02630deb-7fa5-4f0a-8ead-0b835e738536",
   "metadata": {},
   "source": [
    "<div style=\"background-color: #D6B276; padding: 10px;\">\n",
    "Merging measure_code with the working dataset.\n",
    "</div>"
   ]
  },
  {
   "cell_type": "code",
   "execution_count": 74,
   "id": "8931914a-250c-43fe-a355-995df80019ac",
   "metadata": {
    "jupyter": {
     "source_hidden": true
    },
    "scrolled": true
   },
   "outputs": [
    {
     "data": {
      "text/html": [
       "<div>\n",
       "<style scoped>\n",
       "    .dataframe tbody tr th:only-of-type {\n",
       "        vertical-align: middle;\n",
       "    }\n",
       "\n",
       "    .dataframe tbody tr th {\n",
       "        vertical-align: top;\n",
       "    }\n",
       "\n",
       "    .dataframe thead th {\n",
       "        text-align: right;\n",
       "    }\n",
       "</style>\n",
       "<table border=\"1\" class=\"dataframe\">\n",
       "  <thead>\n",
       "    <tr style=\"text-align: right;\">\n",
       "      <th></th>\n",
       "      <th>Port Name</th>\n",
       "      <th>State</th>\n",
       "      <th>Port Code</th>\n",
       "      <th>Border</th>\n",
       "      <th>Date</th>\n",
       "      <th>Measure</th>\n",
       "      <th>Value</th>\n",
       "      <th>Latitude</th>\n",
       "      <th>Longitude</th>\n",
       "      <th>Point</th>\n",
       "      <th>Month</th>\n",
       "      <th>Year</th>\n",
       "      <th>State_Code</th>\n",
       "      <th>Border_Code</th>\n",
       "      <th>Measure_Code</th>\n",
       "    </tr>\n",
       "  </thead>\n",
       "  <tbody>\n",
       "    <tr>\n",
       "      <th>0</th>\n",
       "      <td>Jackman</td>\n",
       "      <td>Maine</td>\n",
       "      <td>104</td>\n",
       "      <td>US-Canada Border</td>\n",
       "      <td>2024-01-01</td>\n",
       "      <td>Trucks</td>\n",
       "      <td>6556</td>\n",
       "      <td>45.806</td>\n",
       "      <td>-70.397</td>\n",
       "      <td>POINT (-70.396722 45.805661)</td>\n",
       "      <td>1</td>\n",
       "      <td>2024</td>\n",
       "      <td>001</td>\n",
       "      <td>001</td>\n",
       "      <td>001</td>\n",
       "    </tr>\n",
       "    <tr>\n",
       "      <th>1</th>\n",
       "      <td>Porthill</td>\n",
       "      <td>Idaho</td>\n",
       "      <td>3308</td>\n",
       "      <td>US-Canada Border</td>\n",
       "      <td>2024-04-01</td>\n",
       "      <td>Trucks</td>\n",
       "      <td>98</td>\n",
       "      <td>49.000</td>\n",
       "      <td>-116.499</td>\n",
       "      <td>POINT (-116.49925 48.999861)</td>\n",
       "      <td>4</td>\n",
       "      <td>2024</td>\n",
       "      <td>002</td>\n",
       "      <td>001</td>\n",
       "      <td>001</td>\n",
       "    </tr>\n",
       "  </tbody>\n",
       "</table>\n",
       "</div>"
      ],
      "text/plain": [
       "  Port Name  State  Port Code            Border       Date Measure  Value  \\\n",
       "0   Jackman  Maine        104  US-Canada Border 2024-01-01  Trucks   6556   \n",
       "1  Porthill  Idaho       3308  US-Canada Border 2024-04-01  Trucks     98   \n",
       "\n",
       "   Latitude  Longitude                         Point  Month  Year State_Code  \\\n",
       "0    45.806    -70.397  POINT (-70.396722 45.805661)      1  2024        001   \n",
       "1    49.000   -116.499  POINT (-116.49925 48.999861)      4  2024        002   \n",
       "\n",
       "  Border_Code Measure_Code  \n",
       "0         001          001  \n",
       "1         001          001  "
      ]
     },
     "execution_count": 74,
     "metadata": {},
     "output_type": "execute_result"
    }
   ],
   "source": [
    "\n",
    "# Assuming measure_code has the columns 'Name' and 'Code'\n",
    "measure_table.rename(columns={'Name': 'Measure', 'Code': 'Measure_Code'}, inplace=True)\n",
    "\n",
    "# Merge the refined_df with measure_table based on 'Measure' column\n",
    "refined_df = pd.merge(refined_df, measure_table[['Measure', 'Measure_Code']], on='Measure', how='left')\n",
    "\n",
    "# Display the updated refined_df\n",
    "refined_df.head(2)"
   ]
  },
  {
   "cell_type": "markdown",
   "id": "ff2a4ee0-4550-4c2f-8c88-68b84551d21c",
   "metadata": {},
   "source": [
    "<div style=\"background-color: #D6B276; padding: 10px;\">\n",
    "Verifying the correctness of merged columns.\n",
    "</div>"
   ]
  },
  {
   "cell_type": "code",
   "execution_count": 75,
   "id": "6ce48f9e-b51a-40fc-aced-65ef2c4fea83",
   "metadata": {
    "jupyter": {
     "source_hidden": true
    },
    "scrolled": true
   },
   "outputs": [
    {
     "data": {
      "text/html": [
       "<div>\n",
       "<style scoped>\n",
       "    .dataframe tbody tr th:only-of-type {\n",
       "        vertical-align: middle;\n",
       "    }\n",
       "\n",
       "    .dataframe tbody tr th {\n",
       "        vertical-align: top;\n",
       "    }\n",
       "\n",
       "    .dataframe thead th {\n",
       "        text-align: right;\n",
       "    }\n",
       "</style>\n",
       "<table border=\"1\" class=\"dataframe\">\n",
       "  <thead>\n",
       "    <tr style=\"text-align: right;\">\n",
       "      <th></th>\n",
       "      <th>State_from_refined_df</th>\n",
       "      <th>State_Code_from_refined_df</th>\n",
       "      <th>State_Code_from_state_table</th>\n",
       "    </tr>\n",
       "  </thead>\n",
       "  <tbody>\n",
       "    <tr>\n",
       "      <th>0</th>\n",
       "      <td>Maine</td>\n",
       "      <td>001</td>\n",
       "      <td>001</td>\n",
       "    </tr>\n",
       "    <tr>\n",
       "      <th>1</th>\n",
       "      <td>Idaho</td>\n",
       "      <td>002</td>\n",
       "      <td>002</td>\n",
       "    </tr>\n",
       "    <tr>\n",
       "      <th>2</th>\n",
       "      <td>Arizona</td>\n",
       "      <td>003</td>\n",
       "      <td>003</td>\n",
       "    </tr>\n",
       "    <tr>\n",
       "      <th>3</th>\n",
       "      <td>Montana</td>\n",
       "      <td>004</td>\n",
       "      <td>004</td>\n",
       "    </tr>\n",
       "    <tr>\n",
       "      <th>4</th>\n",
       "      <td>Minnesota</td>\n",
       "      <td>005</td>\n",
       "      <td>005</td>\n",
       "    </tr>\n",
       "    <tr>\n",
       "      <th>6</th>\n",
       "      <td>Texas</td>\n",
       "      <td>006</td>\n",
       "      <td>006</td>\n",
       "    </tr>\n",
       "    <tr>\n",
       "      <th>11</th>\n",
       "      <td>North Dakota</td>\n",
       "      <td>007</td>\n",
       "      <td>007</td>\n",
       "    </tr>\n",
       "    <tr>\n",
       "      <th>16</th>\n",
       "      <td>Washington</td>\n",
       "      <td>008</td>\n",
       "      <td>008</td>\n",
       "    </tr>\n",
       "    <tr>\n",
       "      <th>18</th>\n",
       "      <td>Alaska</td>\n",
       "      <td>009</td>\n",
       "      <td>009</td>\n",
       "    </tr>\n",
       "    <tr>\n",
       "      <th>19</th>\n",
       "      <td>California</td>\n",
       "      <td>010</td>\n",
       "      <td>010</td>\n",
       "    </tr>\n",
       "    <tr>\n",
       "      <th>25</th>\n",
       "      <td>Michigan</td>\n",
       "      <td>011</td>\n",
       "      <td>011</td>\n",
       "    </tr>\n",
       "    <tr>\n",
       "      <th>30</th>\n",
       "      <td>New York</td>\n",
       "      <td>012</td>\n",
       "      <td>012</td>\n",
       "    </tr>\n",
       "    <tr>\n",
       "      <th>37</th>\n",
       "      <td>New Mexico</td>\n",
       "      <td>013</td>\n",
       "      <td>013</td>\n",
       "    </tr>\n",
       "    <tr>\n",
       "      <th>75</th>\n",
       "      <td>Vermont</td>\n",
       "      <td>014</td>\n",
       "      <td>014</td>\n",
       "    </tr>\n",
       "  </tbody>\n",
       "</table>\n",
       "</div>"
      ],
      "text/plain": [
       "   State_from_refined_df State_Code_from_refined_df  \\\n",
       "0                  Maine                        001   \n",
       "1                  Idaho                        002   \n",
       "2                Arizona                        003   \n",
       "3                Montana                        004   \n",
       "4              Minnesota                        005   \n",
       "6                  Texas                        006   \n",
       "11          North Dakota                        007   \n",
       "16            Washington                        008   \n",
       "18                Alaska                        009   \n",
       "19            California                        010   \n",
       "25              Michigan                        011   \n",
       "30              New York                        012   \n",
       "37            New Mexico                        013   \n",
       "75               Vermont                        014   \n",
       "\n",
       "   State_Code_from_state_table  \n",
       "0                          001  \n",
       "1                          002  \n",
       "2                          003  \n",
       "3                          004  \n",
       "4                          005  \n",
       "6                          006  \n",
       "11                         007  \n",
       "16                         008  \n",
       "18                         009  \n",
       "19                         010  \n",
       "25                         011  \n",
       "30                         012  \n",
       "37                         013  \n",
       "75                         014  "
      ]
     },
     "execution_count": 75,
     "metadata": {},
     "output_type": "execute_result"
    }
   ],
   "source": [
    "\n",
    "# comparing the values for the state in both tables\n",
    "comparison_df = pd.merge(refined_df[['State', 'State_Code']], state_table[['State', 'State_Code']], on='State', how='left')\n",
    "\n",
    "# Rename columns to include table names for better understanding\n",
    "comparison_df.rename(columns={\n",
    "    'State': 'State_from_refined_df',\n",
    "    'State_Code_x': 'State_Code_from_refined_df',  # 'State_Code_x' is from refined_df\n",
    "    'State_Code_y': 'State_Code_from_state_table'  # 'State_Code_y' is from state_table\n",
    "}, inplace=True)\n",
    "\n",
    "# Remove duplicates and show unique rows only\n",
    "unique_comparison_df = comparison_df.drop_duplicates()\n",
    "\n",
    "# Display the comparison table\n",
    "unique_comparison_df"
   ]
  },
  {
   "cell_type": "code",
   "execution_count": 76,
   "id": "55606139-bf00-4786-97d7-413a2979e3c8",
   "metadata": {
    "jupyter": {
     "source_hidden": true
    },
    "scrolled": true
   },
   "outputs": [
    {
     "data": {
      "text/html": [
       "<div>\n",
       "<style scoped>\n",
       "    .dataframe tbody tr th:only-of-type {\n",
       "        vertical-align: middle;\n",
       "    }\n",
       "\n",
       "    .dataframe tbody tr th {\n",
       "        vertical-align: top;\n",
       "    }\n",
       "\n",
       "    .dataframe thead th {\n",
       "        text-align: right;\n",
       "    }\n",
       "</style>\n",
       "<table border=\"1\" class=\"dataframe\">\n",
       "  <thead>\n",
       "    <tr style=\"text-align: right;\">\n",
       "      <th></th>\n",
       "      <th>Border_from_refined_df</th>\n",
       "      <th>Border_Code_from_refined_df</th>\n",
       "      <th>Border_Code_from_state_table</th>\n",
       "    </tr>\n",
       "  </thead>\n",
       "  <tbody>\n",
       "    <tr>\n",
       "      <th>0</th>\n",
       "      <td>US-Canada Border</td>\n",
       "      <td>001</td>\n",
       "      <td>001</td>\n",
       "    </tr>\n",
       "    <tr>\n",
       "      <th>2</th>\n",
       "      <td>US-Mexico Border</td>\n",
       "      <td>002</td>\n",
       "      <td>002</td>\n",
       "    </tr>\n",
       "  </tbody>\n",
       "</table>\n",
       "</div>"
      ],
      "text/plain": [
       "  Border_from_refined_df Border_Code_from_refined_df  \\\n",
       "0       US-Canada Border                         001   \n",
       "2       US-Mexico Border                         002   \n",
       "\n",
       "  Border_Code_from_state_table  \n",
       "0                          001  \n",
       "2                          002  "
      ]
     },
     "execution_count": 76,
     "metadata": {},
     "output_type": "execute_result"
    }
   ],
   "source": [
    "\n",
    "# comparing the values for the border in both tables\n",
    "comparison_df = pd.merge(refined_df[['Border', 'Border_Code']], border_table[['Border', 'Border_Code']], on='Border', how='left')\n",
    "\n",
    "# Rename columns to include table names for better understanding\n",
    "comparison_df.rename(columns={\n",
    "    'Border': 'Border_from_refined_df',\n",
    "    'Border_Code_x': 'Border_Code_from_refined_df',  # 'Border_Code_x' is from refined_df\n",
    "    'Border_Code_y': 'Border_Code_from_state_table'  # 'Border_Code_y' is from border_table\n",
    "}, inplace=True)\n",
    "\n",
    "# Remove duplicates and show unique rows only\n",
    "unique_comparison_df = comparison_df.drop_duplicates()\n",
    "\n",
    "# Display the comparison table\n",
    "unique_comparison_df"
   ]
  },
  {
   "cell_type": "code",
   "execution_count": 77,
   "id": "cf1077ad-f0d6-4f7e-9367-5ee79cc9508e",
   "metadata": {
    "jupyter": {
     "source_hidden": true
    },
    "scrolled": true
   },
   "outputs": [
    {
     "data": {
      "text/html": [
       "<div>\n",
       "<style scoped>\n",
       "    .dataframe tbody tr th:only-of-type {\n",
       "        vertical-align: middle;\n",
       "    }\n",
       "\n",
       "    .dataframe tbody tr th {\n",
       "        vertical-align: top;\n",
       "    }\n",
       "\n",
       "    .dataframe thead th {\n",
       "        text-align: right;\n",
       "    }\n",
       "</style>\n",
       "<table border=\"1\" class=\"dataframe\">\n",
       "  <thead>\n",
       "    <tr style=\"text-align: right;\">\n",
       "      <th></th>\n",
       "      <th>State_from_refined_df</th>\n",
       "      <th>Measure_Code_from_refined_df</th>\n",
       "      <th>Measure_Code_from_state_table</th>\n",
       "    </tr>\n",
       "  </thead>\n",
       "  <tbody>\n",
       "    <tr>\n",
       "      <th>0</th>\n",
       "      <td>Trucks</td>\n",
       "      <td>001</td>\n",
       "      <td>001</td>\n",
       "    </tr>\n",
       "    <tr>\n",
       "      <th>2</th>\n",
       "      <td>Buses</td>\n",
       "      <td>002</td>\n",
       "      <td>002</td>\n",
       "    </tr>\n",
       "    <tr>\n",
       "      <th>3</th>\n",
       "      <td>Pedestrians</td>\n",
       "      <td>003</td>\n",
       "      <td>003</td>\n",
       "    </tr>\n",
       "    <tr>\n",
       "      <th>4</th>\n",
       "      <td>Personal Vehicle Passengers</td>\n",
       "      <td>004</td>\n",
       "      <td>004</td>\n",
       "    </tr>\n",
       "    <tr>\n",
       "      <th>5</th>\n",
       "      <td>Personal Vehicles</td>\n",
       "      <td>005</td>\n",
       "      <td>005</td>\n",
       "    </tr>\n",
       "    <tr>\n",
       "      <th>10</th>\n",
       "      <td>Bus Passengers</td>\n",
       "      <td>006</td>\n",
       "      <td>006</td>\n",
       "    </tr>\n",
       "    <tr>\n",
       "      <th>11</th>\n",
       "      <td>Truck Containers Loaded</td>\n",
       "      <td>007</td>\n",
       "      <td>007</td>\n",
       "    </tr>\n",
       "    <tr>\n",
       "      <th>13</th>\n",
       "      <td>Truck Containers Empty</td>\n",
       "      <td>008</td>\n",
       "      <td>008</td>\n",
       "    </tr>\n",
       "    <tr>\n",
       "      <th>15</th>\n",
       "      <td>Rail Containers Empty</td>\n",
       "      <td>009</td>\n",
       "      <td>009</td>\n",
       "    </tr>\n",
       "    <tr>\n",
       "      <th>21</th>\n",
       "      <td>Trains</td>\n",
       "      <td>010</td>\n",
       "      <td>010</td>\n",
       "    </tr>\n",
       "    <tr>\n",
       "      <th>26</th>\n",
       "      <td>Train Passengers</td>\n",
       "      <td>011</td>\n",
       "      <td>011</td>\n",
       "    </tr>\n",
       "    <tr>\n",
       "      <th>45</th>\n",
       "      <td>Rail Containers Loaded</td>\n",
       "      <td>012</td>\n",
       "      <td>012</td>\n",
       "    </tr>\n",
       "  </tbody>\n",
       "</table>\n",
       "</div>"
      ],
      "text/plain": [
       "          State_from_refined_df Measure_Code_from_refined_df  \\\n",
       "0                        Trucks                          001   \n",
       "2                         Buses                          002   \n",
       "3                   Pedestrians                          003   \n",
       "4   Personal Vehicle Passengers                          004   \n",
       "5             Personal Vehicles                          005   \n",
       "10               Bus Passengers                          006   \n",
       "11      Truck Containers Loaded                          007   \n",
       "13       Truck Containers Empty                          008   \n",
       "15        Rail Containers Empty                          009   \n",
       "21                       Trains                          010   \n",
       "26             Train Passengers                          011   \n",
       "45       Rail Containers Loaded                          012   \n",
       "\n",
       "   Measure_Code_from_state_table  \n",
       "0                            001  \n",
       "2                            002  \n",
       "3                            003  \n",
       "4                            004  \n",
       "5                            005  \n",
       "10                           006  \n",
       "11                           007  \n",
       "13                           008  \n",
       "15                           009  \n",
       "21                           010  \n",
       "26                           011  \n",
       "45                           012  "
      ]
     },
     "execution_count": 77,
     "metadata": {},
     "output_type": "execute_result"
    }
   ],
   "source": [
    "\n",
    "# comparing the values for the measure in both tables\n",
    "comparison_df = pd.merge(refined_df[['Measure', 'Measure_Code']], measure_table[['Measure', 'Measure_Code']], on='Measure', how='left')\n",
    "\n",
    "# Rename columns to include table names for better understanding\n",
    "comparison_df.rename(columns={\n",
    "    'Measure': 'State_from_refined_df',\n",
    "    'Measure_Code_x': 'Measure_Code_from_refined_df',  # 'Measure_Code_x' is from refined_df\n",
    "    'Measure_Code_y': 'Measure_Code_from_state_table'  # 'Measure_Code_y' is from measure_table\n",
    "}, inplace=True)\n",
    "\n",
    "# Remove duplicates and show unique rows only\n",
    "unique_comparison_df = comparison_df.drop_duplicates()\n",
    "\n",
    "# Display the comparison table\n",
    "unique_comparison_df"
   ]
  },
  {
   "cell_type": "markdown",
   "id": "c43e4371-ba94-446d-93b4-685004d5d655",
   "metadata": {},
   "source": [
    "<div style=\"background-color: #D6B276; padding: 10px;\">\n",
    "Removing the <i>border</i> from the values of 'Name' column from border_table.\n",
    "</div>"
   ]
  },
  {
   "cell_type": "code",
   "execution_count": 78,
   "id": "43a7964e-6b95-4827-92c6-6bedc6988771",
   "metadata": {
    "jupyter": {
     "source_hidden": true
    },
    "scrolled": true
   },
   "outputs": [
    {
     "name": "stdout",
     "output_type": "stream",
     "text": [
      "      Border Border_Code\n",
      "0  US-Canada         001\n",
      "1  US-Mexico         002\n"
     ]
    }
   ],
   "source": [
    "\n",
    "border_table['Border'] = border_table['Border'].replace({\n",
    "    'US-Canada Border': 'US-Canada',\n",
    "    'US-Mexico Border': 'US-Mexico'\n",
    "})\n",
    "print(border_table)"
   ]
  },
  {
   "cell_type": "markdown",
   "id": "8c76a9bd-1820-4b84-9c79-093f776acdbe",
   "metadata": {},
   "source": [
    "<div style=\"background-color: #D6B276; padding: 10px;\">\n",
    "As the codes for <i>'State'</i>, <i>'Border'</i> and <i>'Measure'</i> columns have already merged into the working dataset, these column should be removed to avoid data redundancy.<br>\n",
    "The code for <i>'Port Name'</i> column was originally provided in the raw dataset.<br>\n",
    "Finally, the <i>'Point'</i> column conatins location coordinates that are already separated into <i>'Latitude'</i> and <i>'Longitude'</i> columns in raw dataset.<br>\n",
    "Removing these columns helps reduce noise and dimensionality in the working dataset.\n",
    "</div>"
   ]
  },
  {
   "cell_type": "code",
   "execution_count": 79,
   "id": "8f0d99f0-a104-4f3a-9260-ce546acb3d53",
   "metadata": {
    "jupyter": {
     "source_hidden": true
    }
   },
   "outputs": [
    {
     "data": {
      "text/html": [
       "<div>\n",
       "<style scoped>\n",
       "    .dataframe tbody tr th:only-of-type {\n",
       "        vertical-align: middle;\n",
       "    }\n",
       "\n",
       "    .dataframe tbody tr th {\n",
       "        vertical-align: top;\n",
       "    }\n",
       "\n",
       "    .dataframe thead th {\n",
       "        text-align: right;\n",
       "    }\n",
       "</style>\n",
       "<table border=\"1\" class=\"dataframe\">\n",
       "  <thead>\n",
       "    <tr style=\"text-align: right;\">\n",
       "      <th></th>\n",
       "      <th>Port Code</th>\n",
       "      <th>Date</th>\n",
       "      <th>Value</th>\n",
       "      <th>Latitude</th>\n",
       "      <th>Longitude</th>\n",
       "      <th>Month</th>\n",
       "      <th>Year</th>\n",
       "      <th>State_Code</th>\n",
       "      <th>Border_Code</th>\n",
       "      <th>Measure_Code</th>\n",
       "    </tr>\n",
       "  </thead>\n",
       "  <tbody>\n",
       "    <tr>\n",
       "      <th>0</th>\n",
       "      <td>104</td>\n",
       "      <td>2024-01-01</td>\n",
       "      <td>6556</td>\n",
       "      <td>45.806</td>\n",
       "      <td>-70.397</td>\n",
       "      <td>1</td>\n",
       "      <td>2024</td>\n",
       "      <td>001</td>\n",
       "      <td>001</td>\n",
       "      <td>001</td>\n",
       "    </tr>\n",
       "    <tr>\n",
       "      <th>1</th>\n",
       "      <td>3308</td>\n",
       "      <td>2024-04-01</td>\n",
       "      <td>98</td>\n",
       "      <td>49.000</td>\n",
       "      <td>-116.499</td>\n",
       "      <td>4</td>\n",
       "      <td>2024</td>\n",
       "      <td>002</td>\n",
       "      <td>001</td>\n",
       "      <td>001</td>\n",
       "    </tr>\n",
       "  </tbody>\n",
       "</table>\n",
       "</div>"
      ],
      "text/plain": [
       "   Port Code       Date  Value  Latitude  Longitude  Month  Year State_Code  \\\n",
       "0        104 2024-01-01   6556    45.806    -70.397      1  2024        001   \n",
       "1       3308 2024-04-01     98    49.000   -116.499      4  2024        002   \n",
       "\n",
       "  Border_Code Measure_Code  \n",
       "0         001          001  \n",
       "1         001          001  "
      ]
     },
     "execution_count": 79,
     "metadata": {},
     "output_type": "execute_result"
    }
   ],
   "source": [
    "\n",
    "refined_df = refined_df.drop(columns=[\"Port Name\", \"State\", \"Border\", \"Measure\", \"Point\"])\n",
    "refined_df.head(2)"
   ]
  },
  {
   "cell_type": "markdown",
   "id": "3e0210fc-244b-4f6d-afe5-58ec69f54255",
   "metadata": {},
   "source": [
    "<div style=\"background-color: #D6B276; padding: 10px;\">\n",
    "Comapring the memory after doing feature engineering by creating code and removing redundant data.\n",
    "</div>"
   ]
  },
  {
   "cell_type": "code",
   "execution_count": 80,
   "id": "3bab788a-2715-4174-a19d-3e55f7afd3b1",
   "metadata": {
    "jupyter": {
     "source_hidden": true
    }
   },
   "outputs": [
    {
     "name": "stdout",
     "output_type": "stream",
     "text": [
      "raw_df: 157.62 MB\n",
      "refined_df: 78.12 MB\n",
      "state_table: 0.00 MB\n",
      "border_table: 0.00 MB\n",
      "measure_table: 0.00 MB\n",
      "port_table: 0.01 MB\n",
      "month_table: 0.00 MB\n"
     ]
    }
   ],
   "source": [
    "\n",
    "# List the names of the DataFrames to fetch the size\n",
    "dataframe_names = ['raw_df', 'refined_df', 'state_table', 'border_table','measure_table','port_table','month_table']\n",
    "\n",
    "for name in dataframe_names:\n",
    "    df = globals().get(name)\n",
    "    if isinstance(df, DataFrame):\n",
    "        mem = df.memory_usage(deep=True).sum()  # in bytes\n",
    "        mem_MB = mem / (1024 ** 2)  # convert to MB\n",
    "        print(f\"{name}: {mem_MB:.2f} MB\")\n",
    "    else:\n",
    "        print(f\"{name} is not a DataFrame or does not exist.\")"
   ]
  },
  {
   "cell_type": "markdown",
   "id": "553b73f8-7c80-4588-9409-9fd7ab64aaec",
   "metadata": {},
   "source": [
    "<div style=\"background-color: #D6B276; padding: 10px;\">\n",
    "Following <b>data engineering</b>, the memory consumption of the raw source was <b>decreased from 157.62 MB to 78.12 MB</b>, representing almost a <b>50% reduction</b>.<br><br>\n",
    "Next, dentifying the dataframes that we created during the process up to this point and deleting the unwanted ones.<br>\n",
    "</div>"
   ]
  },
  {
   "cell_type": "code",
   "execution_count": 81,
   "id": "5ce8897d-6f54-4853-81c1-f604e3f2152c",
   "metadata": {
    "jupyter": {
     "source_hidden": true
    }
   },
   "outputs": [
    {
     "name": "stdout",
     "output_type": "stream",
     "text": [
      "User DataFrames:\n",
      "state_table\n",
      "duplicates\n",
      "border_table\n",
      "measure_table\n",
      "port_table\n",
      "filtered_df\n",
      "result\n",
      "month_table\n",
      "finalized_broder_crossing_df\n",
      "dataframe_dict\n",
      "column_dict\n",
      "raw_df\n",
      "null_summary\n",
      "unique_ports\n",
      "unique_ports_sorted\n",
      "refined_df\n",
      "comparison_df\n",
      "unique_comparison_df\n"
     ]
    }
   ],
   "source": [
    "\n",
    "# Get all DataFrames excluding system/temp vars starting with underscore\n",
    "dataframes = {\n",
    "    name: obj for name, obj in globals().items() \n",
    "    if isinstance(obj, DataFrame) and not name.startswith('_')\n",
    "}\n",
    "\n",
    "exclude_names = {'df'}\n",
    "filtered_dfs = {name: df for name, df in dataframes.items() if name not in exclude_names}\n",
    "\n",
    "print(\"User DataFrames:\")\n",
    "for name in filtered_dfs:\n",
    "    print(name)"
   ]
  },
  {
   "cell_type": "markdown",
   "id": "89d881a0-047c-4153-a335-6935473c803f",
   "metadata": {},
   "source": [
    "<div style=\"background-color: #D6B276; padding: 10px;\">\n",
    "<b>How DataFrames affects performance in Python Environment</b><br>\n",
    "1. Memory Usage<br>\n",
    "   Large DataFrames consume more RAM. If you run out of memory, your system may slow down or crash.<br>\n",
    "   Inefficient data types (like using object for strings instead of category or numeric types) can bloat memory usage.<br>\n",
    "2. Computation Speed<br>\n",
    "   Operations on bigger DataFrames naturally take longer.<br>\n",
    "   Complex transformations or joins can be slow if the DataFrame is huge.<br>\n",
    "3. Garbage Collection/Memory Management<br>\n",
    "   Keeping many DataFrames around, especially large ones, means Python’s garbage collector has more work, possibly causing pauses.<br>\n",
    "   Not deleting or clearing unused DataFrames leads to wasted memory.<br>\n",
    "4. I/O Performance<br>\n",
    "   Reading/writing large DataFrames from disk or network can slow down your workflow.<br>\n",
    "</div>"
   ]
  },
  {
   "cell_type": "code",
   "execution_count": 82,
   "id": "74c5545c-b3cb-4279-8d20-2542df3cda18",
   "metadata": {
    "jupyter": {
     "source_hidden": true
    }
   },
   "outputs": [],
   "source": [
    "\n",
    "#deleting unmanted dataframes\n",
    "del null_summary\n",
    "del unique_ports\n",
    "del unique_ports_sorted\n",
    "del comparison_df\n",
    "del raw_df\n",
    "del unique_comparison_df"
   ]
  },
  {
   "cell_type": "markdown",
   "id": "73345640-c79f-488b-a312-1e96d40234c4",
   "metadata": {},
   "source": [
    "<div style=\"background-color: #D6B276; padding: 10px;\">\n",
    "Retrieving the minimumn and maximun dates to filter the dataset for project use.\n",
    "</div>"
   ]
  },
  {
   "cell_type": "code",
   "execution_count": 83,
   "id": "783ef400-fa72-4029-a932-c91b2b86f52b",
   "metadata": {
    "jupyter": {
     "source_hidden": true
    }
   },
   "outputs": [
    {
     "name": "stdout",
     "output_type": "stream",
     "text": [
      "Minimum year: \u001b[1m 1996-01-01 00:00:00 \u001b[0m \n",
      "Maximum year: \u001b[1m 2025-05-01 00:00:00 \u001b[0m \n"
     ]
    }
   ],
   "source": [
    "\n",
    "min_year = refined_df['Date'].min()\n",
    "max_year = refined_df['Date'].max()\n",
    "\n",
    "print(f\"Minimum year: \\033[1m {min_year} \\033[0m \")\n",
    "print(f\"Maximum year: \\033[1m {max_year} \\033[0m \")"
   ]
  },
  {
   "cell_type": "markdown",
   "id": "9aa29593-852f-4a8e-8e52-bce85f399810",
   "metadata": {},
   "source": [
    "<div style=\"background-color: #D6B276; padding: 10px;\">\n",
    "This project analyzes data from the <b>past decade (2015-2024)</b>.\n",
    "</div>"
   ]
  },
  {
   "cell_type": "code",
   "execution_count": 84,
   "id": "3181dcb7-981f-4d09-89ad-4a75293683a1",
   "metadata": {
    "jupyter": {
     "source_hidden": true
    }
   },
   "outputs": [
    {
     "name": "stdout",
     "output_type": "stream",
     "text": [
      "Number of rows before trimming: \u001b[1m 401556 \u001b[0m\n"
     ]
    }
   ],
   "source": [
    "\n",
    "num_rows = refined_df.shape[0]\n",
    "print(f\"Number of rows before trimming: \\033[1m {num_rows} \\033[0m\")"
   ]
  },
  {
   "cell_type": "code",
   "execution_count": 85,
   "id": "96c61e0b-6444-449d-9c60-10f8a18cfa3d",
   "metadata": {
    "jupyter": {
     "source_hidden": true
    }
   },
   "outputs": [],
   "source": [
    "\n",
    "#Filtering the datset for the year 2019 to 2024\n",
    "refined_df = refined_df[(refined_df['Year'] >= 2015) & (refined_df['Year'] <= 2024)]"
   ]
  },
  {
   "cell_type": "code",
   "execution_count": 86,
   "id": "cf4c07b4-f61c-4f13-a3d8-d461f93b195e",
   "metadata": {
    "jupyter": {
     "source_hidden": true
    }
   },
   "outputs": [
    {
     "name": "stdout",
     "output_type": "stream",
     "text": [
      "Minimum year: \u001b[1m 2015-01-01 00:00:00 \u001b[0m\n",
      "Maximum year: \u001b[1m 2024-12-01 00:00:00 \u001b[0m\n"
     ]
    }
   ],
   "source": [
    "\n",
    "min_year = refined_df['Date'].min()\n",
    "max_year = refined_df['Date'].max()\n",
    "\n",
    "print(f\"Minimum year: \\033[1m {min_year} \\033[0m\")\n",
    "print(f\"Maximum year: \\033[1m {max_year} \\033[0m\")"
   ]
  },
  {
   "cell_type": "code",
   "execution_count": 87,
   "id": "07612279-4eff-4f53-aac9-b544599c7317",
   "metadata": {
    "jupyter": {
     "source_hidden": true
    }
   },
   "outputs": [
    {
     "name": "stdout",
     "output_type": "stream",
     "text": [
      "Number of rows after trimming: \u001b[1m 102519 \u001b[0m\n"
     ]
    }
   ],
   "source": [
    "\n",
    "num_rows = refined_df.shape[0]\n",
    "print(f\"Number of rows after trimming: \\033[1m {num_rows} \\033[0m\")"
   ]
  },
  {
   "cell_type": "markdown",
   "id": "6934b830-31cf-4901-9d25-577e168f3d93",
   "metadata": {},
   "source": [
    "<div style=\"background-color: #D6B276; padding: 10px;\">\n",
    "Renaming the <i>refined_df</i> to <i>finalized_broder_crossing_df</i>.\n",
    "</div>"
   ]
  },
  {
   "cell_type": "code",
   "execution_count": 88,
   "id": "29db6b60-2545-4ed9-a9fc-c48df8449f74",
   "metadata": {
    "jupyter": {
     "source_hidden": true
    }
   },
   "outputs": [
    {
     "data": {
      "text/html": [
       "<div>\n",
       "<style scoped>\n",
       "    .dataframe tbody tr th:only-of-type {\n",
       "        vertical-align: middle;\n",
       "    }\n",
       "\n",
       "    .dataframe tbody tr th {\n",
       "        vertical-align: top;\n",
       "    }\n",
       "\n",
       "    .dataframe thead th {\n",
       "        text-align: right;\n",
       "    }\n",
       "</style>\n",
       "<table border=\"1\" class=\"dataframe\">\n",
       "  <thead>\n",
       "    <tr style=\"text-align: right;\">\n",
       "      <th></th>\n",
       "      <th>Port Code</th>\n",
       "      <th>Date</th>\n",
       "      <th>Value</th>\n",
       "      <th>Latitude</th>\n",
       "      <th>Longitude</th>\n",
       "      <th>Month</th>\n",
       "      <th>Year</th>\n",
       "      <th>State_Code</th>\n",
       "      <th>Border_Code</th>\n",
       "      <th>Measure_Code</th>\n",
       "    </tr>\n",
       "  </thead>\n",
       "  <tbody>\n",
       "    <tr>\n",
       "      <th>0</th>\n",
       "      <td>104</td>\n",
       "      <td>2024-01-01</td>\n",
       "      <td>6556</td>\n",
       "      <td>45.806</td>\n",
       "      <td>-70.397</td>\n",
       "      <td>1</td>\n",
       "      <td>2024</td>\n",
       "      <td>001</td>\n",
       "      <td>001</td>\n",
       "      <td>001</td>\n",
       "    </tr>\n",
       "    <tr>\n",
       "      <th>1</th>\n",
       "      <td>3308</td>\n",
       "      <td>2024-04-01</td>\n",
       "      <td>98</td>\n",
       "      <td>49.000</td>\n",
       "      <td>-116.499</td>\n",
       "      <td>4</td>\n",
       "      <td>2024</td>\n",
       "      <td>002</td>\n",
       "      <td>001</td>\n",
       "      <td>001</td>\n",
       "    </tr>\n",
       "  </tbody>\n",
       "</table>\n",
       "</div>"
      ],
      "text/plain": [
       "   Port Code       Date  Value  Latitude  Longitude  Month  Year State_Code  \\\n",
       "0        104 2024-01-01   6556    45.806    -70.397      1  2024        001   \n",
       "1       3308 2024-04-01     98    49.000   -116.499      4  2024        002   \n",
       "\n",
       "  Border_Code Measure_Code  \n",
       "0         001          001  \n",
       "1         001          001  "
      ]
     },
     "execution_count": 88,
     "metadata": {},
     "output_type": "execute_result"
    }
   ],
   "source": [
    "\n",
    "finalized_broder_crossing_df = refined_df \n",
    "del refined_df   \n",
    "finalized_broder_crossing_df.head(2)"
   ]
  },
  {
   "cell_type": "markdown",
   "id": "cd78cc00-332a-4df1-a2ad-04ba20a48fbc",
   "metadata": {},
   "source": [
    "<div style=\"background-color: #D6B276; padding: 10px;\">\n",
    "<h3> Data Dictionary </h3><br>\n",
    "</div>\n",
    "<div style=\"background-color: #D6B276; padding: 10px;\">\n",
    "<b>Importance of data dictionary.</b><br>\n",
    "Improves understanding and collaboration.<br>\n",
    "Aids in documentation and reproductibility.<br>\n",
    "Facilitates data governance.<br>\n",
    "Supports data cleaning and validation.<br>\n",
    "Sppeds up analysis and development.<br>\n",
    "</div>"
   ]
  },
  {
   "cell_type": "code",
   "execution_count": 89,
   "id": "31c8e96c-4226-40b2-a7a8-e3ac5217bdba",
   "metadata": {
    "jupyter": {
     "source_hidden": true
    }
   },
   "outputs": [
    {
     "name": "stdout",
     "output_type": "stream",
     "text": [
      "DataFrame Dictionary:\n"
     ]
    },
    {
     "data": {
      "text/html": [
       "<div>\n",
       "<style scoped>\n",
       "    .dataframe tbody tr th:only-of-type {\n",
       "        vertical-align: middle;\n",
       "    }\n",
       "\n",
       "    .dataframe tbody tr th {\n",
       "        vertical-align: top;\n",
       "    }\n",
       "\n",
       "    .dataframe thead th {\n",
       "        text-align: right;\n",
       "    }\n",
       "</style>\n",
       "<table border=\"1\" class=\"dataframe\">\n",
       "  <thead>\n",
       "    <tr style=\"text-align: right;\">\n",
       "      <th></th>\n",
       "      <th>DataFrame Code</th>\n",
       "      <th>DataFrame Name</th>\n",
       "      <th>Description</th>\n",
       "      <th>Num Rows</th>\n",
       "      <th>Num Columns</th>\n",
       "    </tr>\n",
       "  </thead>\n",
       "  <tbody>\n",
       "    <tr>\n",
       "      <th>0</th>\n",
       "      <td>dfc_001</td>\n",
       "      <td>finalized_broder_crossing_df</td>\n",
       "      <td></td>\n",
       "      <td>102519</td>\n",
       "      <td>10</td>\n",
       "    </tr>\n",
       "    <tr>\n",
       "      <th>1</th>\n",
       "      <td>dfc_002</td>\n",
       "      <td>state_table</td>\n",
       "      <td></td>\n",
       "      <td>14</td>\n",
       "      <td>5</td>\n",
       "    </tr>\n",
       "    <tr>\n",
       "      <th>2</th>\n",
       "      <td>dfc_003</td>\n",
       "      <td>border_table</td>\n",
       "      <td></td>\n",
       "      <td>2</td>\n",
       "      <td>2</td>\n",
       "    </tr>\n",
       "    <tr>\n",
       "      <th>3</th>\n",
       "      <td>dfc_004</td>\n",
       "      <td>measure_table</td>\n",
       "      <td></td>\n",
       "      <td>12</td>\n",
       "      <td>2</td>\n",
       "    </tr>\n",
       "    <tr>\n",
       "      <th>4</th>\n",
       "      <td>dfc_005</td>\n",
       "      <td>port_table</td>\n",
       "      <td></td>\n",
       "      <td>117</td>\n",
       "      <td>2</td>\n",
       "    </tr>\n",
       "    <tr>\n",
       "      <th>5</th>\n",
       "      <td>dfc_006</td>\n",
       "      <td>month_table</td>\n",
       "      <td></td>\n",
       "      <td>12</td>\n",
       "      <td>2</td>\n",
       "    </tr>\n",
       "  </tbody>\n",
       "</table>\n",
       "</div>"
      ],
      "text/plain": [
       "  DataFrame Code                DataFrame Name Description  Num Rows  \\\n",
       "0        dfc_001  finalized_broder_crossing_df                102519   \n",
       "1        dfc_002                   state_table                    14   \n",
       "2        dfc_003                  border_table                     2   \n",
       "3        dfc_004                 measure_table                    12   \n",
       "4        dfc_005                    port_table                   117   \n",
       "5        dfc_006                   month_table                    12   \n",
       "\n",
       "   Num Columns  \n",
       "0           10  \n",
       "1            5  \n",
       "2            2  \n",
       "3            2  \n",
       "4            2  \n",
       "5            2  "
      ]
     },
     "metadata": {},
     "output_type": "display_data"
    },
    {
     "name": "stdout",
     "output_type": "stream",
     "text": [
      "\n",
      "Column Dictionary:\n"
     ]
    },
    {
     "data": {
      "text/html": [
       "<div>\n",
       "<style scoped>\n",
       "    .dataframe tbody tr th:only-of-type {\n",
       "        vertical-align: middle;\n",
       "    }\n",
       "\n",
       "    .dataframe tbody tr th {\n",
       "        vertical-align: top;\n",
       "    }\n",
       "\n",
       "    .dataframe thead th {\n",
       "        text-align: right;\n",
       "    }\n",
       "</style>\n",
       "<table border=\"1\" class=\"dataframe\">\n",
       "  <thead>\n",
       "    <tr style=\"text-align: right;\">\n",
       "      <th></th>\n",
       "      <th>DataFrame Code</th>\n",
       "      <th>Column Name</th>\n",
       "      <th>Data Type</th>\n",
       "      <th>Missing Values</th>\n",
       "      <th>Unique Values</th>\n",
       "      <th>Example Value</th>\n",
       "      <th>Description</th>\n",
       "    </tr>\n",
       "  </thead>\n",
       "  <tbody>\n",
       "    <tr>\n",
       "      <th>0</th>\n",
       "      <td>dfc_001</td>\n",
       "      <td>Port Code</td>\n",
       "      <td>int64</td>\n",
       "      <td>0</td>\n",
       "      <td>115</td>\n",
       "      <td>104</td>\n",
       "      <td></td>\n",
       "    </tr>\n",
       "    <tr>\n",
       "      <th>1</th>\n",
       "      <td>dfc_001</td>\n",
       "      <td>Date</td>\n",
       "      <td>datetime64[ns]</td>\n",
       "      <td>0</td>\n",
       "      <td>120</td>\n",
       "      <td>2024-01-01 00:00:00</td>\n",
       "      <td></td>\n",
       "    </tr>\n",
       "    <tr>\n",
       "      <th>2</th>\n",
       "      <td>dfc_001</td>\n",
       "      <td>Value</td>\n",
       "      <td>int64</td>\n",
       "      <td>0</td>\n",
       "      <td>27874</td>\n",
       "      <td>6556</td>\n",
       "      <td></td>\n",
       "    </tr>\n",
       "    <tr>\n",
       "      <th>3</th>\n",
       "      <td>dfc_001</td>\n",
       "      <td>Latitude</td>\n",
       "      <td>float64</td>\n",
       "      <td>0</td>\n",
       "      <td>71</td>\n",
       "      <td>45.806</td>\n",
       "      <td></td>\n",
       "    </tr>\n",
       "    <tr>\n",
       "      <th>4</th>\n",
       "      <td>dfc_001</td>\n",
       "      <td>Longitude</td>\n",
       "      <td>float64</td>\n",
       "      <td>0</td>\n",
       "      <td>114</td>\n",
       "      <td>-70.397</td>\n",
       "      <td></td>\n",
       "    </tr>\n",
       "    <tr>\n",
       "      <th>5</th>\n",
       "      <td>dfc_001</td>\n",
       "      <td>Month</td>\n",
       "      <td>int32</td>\n",
       "      <td>0</td>\n",
       "      <td>12</td>\n",
       "      <td>1</td>\n",
       "      <td></td>\n",
       "    </tr>\n",
       "    <tr>\n",
       "      <th>6</th>\n",
       "      <td>dfc_001</td>\n",
       "      <td>Year</td>\n",
       "      <td>int32</td>\n",
       "      <td>0</td>\n",
       "      <td>10</td>\n",
       "      <td>2024</td>\n",
       "      <td></td>\n",
       "    </tr>\n",
       "    <tr>\n",
       "      <th>7</th>\n",
       "      <td>dfc_001</td>\n",
       "      <td>State_Code</td>\n",
       "      <td>object</td>\n",
       "      <td>0</td>\n",
       "      <td>14</td>\n",
       "      <td>001</td>\n",
       "      <td></td>\n",
       "    </tr>\n",
       "    <tr>\n",
       "      <th>8</th>\n",
       "      <td>dfc_001</td>\n",
       "      <td>Border_Code</td>\n",
       "      <td>object</td>\n",
       "      <td>0</td>\n",
       "      <td>2</td>\n",
       "      <td>001</td>\n",
       "      <td></td>\n",
       "    </tr>\n",
       "    <tr>\n",
       "      <th>9</th>\n",
       "      <td>dfc_001</td>\n",
       "      <td>Measure_Code</td>\n",
       "      <td>object</td>\n",
       "      <td>0</td>\n",
       "      <td>12</td>\n",
       "      <td>001</td>\n",
       "      <td></td>\n",
       "    </tr>\n",
       "    <tr>\n",
       "      <th>10</th>\n",
       "      <td>dfc_002</td>\n",
       "      <td>State</td>\n",
       "      <td>object</td>\n",
       "      <td>0</td>\n",
       "      <td>14</td>\n",
       "      <td>Maine</td>\n",
       "      <td></td>\n",
       "    </tr>\n",
       "    <tr>\n",
       "      <th>11</th>\n",
       "      <td>dfc_002</td>\n",
       "      <td>State_Code</td>\n",
       "      <td>object</td>\n",
       "      <td>0</td>\n",
       "      <td>14</td>\n",
       "      <td>001</td>\n",
       "      <td></td>\n",
       "    </tr>\n",
       "    <tr>\n",
       "      <th>12</th>\n",
       "      <td>dfc_002</td>\n",
       "      <td>Abbr</td>\n",
       "      <td>object</td>\n",
       "      <td>0</td>\n",
       "      <td>14</td>\n",
       "      <td>ME</td>\n",
       "      <td></td>\n",
       "    </tr>\n",
       "    <tr>\n",
       "      <th>13</th>\n",
       "      <td>dfc_002</td>\n",
       "      <td>Latitude</td>\n",
       "      <td>float64</td>\n",
       "      <td>0</td>\n",
       "      <td>14</td>\n",
       "      <td>44.6937</td>\n",
       "      <td></td>\n",
       "    </tr>\n",
       "    <tr>\n",
       "      <th>14</th>\n",
       "      <td>dfc_002</td>\n",
       "      <td>Longitude</td>\n",
       "      <td>float64</td>\n",
       "      <td>0</td>\n",
       "      <td>14</td>\n",
       "      <td>-69.3819</td>\n",
       "      <td></td>\n",
       "    </tr>\n",
       "    <tr>\n",
       "      <th>15</th>\n",
       "      <td>dfc_003</td>\n",
       "      <td>Border</td>\n",
       "      <td>object</td>\n",
       "      <td>0</td>\n",
       "      <td>2</td>\n",
       "      <td>US-Canada</td>\n",
       "      <td></td>\n",
       "    </tr>\n",
       "    <tr>\n",
       "      <th>16</th>\n",
       "      <td>dfc_003</td>\n",
       "      <td>Border_Code</td>\n",
       "      <td>object</td>\n",
       "      <td>0</td>\n",
       "      <td>2</td>\n",
       "      <td>001</td>\n",
       "      <td></td>\n",
       "    </tr>\n",
       "    <tr>\n",
       "      <th>17</th>\n",
       "      <td>dfc_004</td>\n",
       "      <td>Measure</td>\n",
       "      <td>object</td>\n",
       "      <td>0</td>\n",
       "      <td>12</td>\n",
       "      <td>Trucks</td>\n",
       "      <td></td>\n",
       "    </tr>\n",
       "    <tr>\n",
       "      <th>18</th>\n",
       "      <td>dfc_004</td>\n",
       "      <td>Measure_Code</td>\n",
       "      <td>object</td>\n",
       "      <td>0</td>\n",
       "      <td>12</td>\n",
       "      <td>001</td>\n",
       "      <td></td>\n",
       "    </tr>\n",
       "    <tr>\n",
       "      <th>19</th>\n",
       "      <td>dfc_005</td>\n",
       "      <td>Port Name</td>\n",
       "      <td>object</td>\n",
       "      <td>0</td>\n",
       "      <td>117</td>\n",
       "      <td>Portland</td>\n",
       "      <td></td>\n",
       "    </tr>\n",
       "    <tr>\n",
       "      <th>20</th>\n",
       "      <td>dfc_005</td>\n",
       "      <td>Port Code</td>\n",
       "      <td>int64</td>\n",
       "      <td>0</td>\n",
       "      <td>117</td>\n",
       "      <td>101</td>\n",
       "      <td></td>\n",
       "    </tr>\n",
       "    <tr>\n",
       "      <th>21</th>\n",
       "      <td>dfc_006</td>\n",
       "      <td>Month</td>\n",
       "      <td>object</td>\n",
       "      <td>0</td>\n",
       "      <td>12</td>\n",
       "      <td>January</td>\n",
       "      <td></td>\n",
       "    </tr>\n",
       "    <tr>\n",
       "      <th>22</th>\n",
       "      <td>dfc_006</td>\n",
       "      <td>Month_Number</td>\n",
       "      <td>object</td>\n",
       "      <td>0</td>\n",
       "      <td>12</td>\n",
       "      <td>01</td>\n",
       "      <td></td>\n",
       "    </tr>\n",
       "  </tbody>\n",
       "</table>\n",
       "</div>"
      ],
      "text/plain": [
       "   DataFrame Code   Column Name       Data Type  Missing Values  \\\n",
       "0         dfc_001     Port Code           int64               0   \n",
       "1         dfc_001          Date  datetime64[ns]               0   \n",
       "2         dfc_001         Value           int64               0   \n",
       "3         dfc_001      Latitude         float64               0   \n",
       "4         dfc_001     Longitude         float64               0   \n",
       "5         dfc_001         Month           int32               0   \n",
       "6         dfc_001          Year           int32               0   \n",
       "7         dfc_001    State_Code          object               0   \n",
       "8         dfc_001   Border_Code          object               0   \n",
       "9         dfc_001  Measure_Code          object               0   \n",
       "10        dfc_002         State          object               0   \n",
       "11        dfc_002    State_Code          object               0   \n",
       "12        dfc_002          Abbr          object               0   \n",
       "13        dfc_002      Latitude         float64               0   \n",
       "14        dfc_002     Longitude         float64               0   \n",
       "15        dfc_003        Border          object               0   \n",
       "16        dfc_003   Border_Code          object               0   \n",
       "17        dfc_004       Measure          object               0   \n",
       "18        dfc_004  Measure_Code          object               0   \n",
       "19        dfc_005     Port Name          object               0   \n",
       "20        dfc_005     Port Code           int64               0   \n",
       "21        dfc_006         Month          object               0   \n",
       "22        dfc_006  Month_Number          object               0   \n",
       "\n",
       "    Unique Values        Example Value Description  \n",
       "0             115                  104              \n",
       "1             120  2024-01-01 00:00:00              \n",
       "2           27874                 6556              \n",
       "3              71               45.806              \n",
       "4             114              -70.397              \n",
       "5              12                    1              \n",
       "6              10                 2024              \n",
       "7              14                  001              \n",
       "8               2                  001              \n",
       "9              12                  001              \n",
       "10             14                Maine              \n",
       "11             14                  001              \n",
       "12             14                   ME              \n",
       "13             14              44.6937              \n",
       "14             14             -69.3819              \n",
       "15              2            US-Canada              \n",
       "16              2                  001              \n",
       "17             12               Trucks              \n",
       "18             12                  001              \n",
       "19            117             Portland              \n",
       "20            117                  101              \n",
       "21             12              January              \n",
       "22             12                   01              "
      ]
     },
     "metadata": {},
     "output_type": "display_data"
    }
   ],
   "source": [
    "\n",
    "# Put your DataFrames in a dictionary with names as keys\n",
    "dfs = {\n",
    "    'finalized_broder_crossing_df': finalized_broder_crossing_df,\n",
    "    'state_table': state_table,\n",
    "    'border_table': border_table,\n",
    "    'measure_table': measure_table,\n",
    "    'port_table': port_table,\n",
    "    'month_table': month_table\n",
    "}\n",
    "\n",
    "# Generate DataFrame codes like dfc_001, dfc_002, ...\n",
    "def generate_df_codes(dfs):\n",
    "    codes = {}\n",
    "    for i, name in enumerate(dfs.keys(), 1):\n",
    "        codes[name] = f'dfc_{i:03d}'\n",
    "    return codes\n",
    "\n",
    "df_codes = generate_df_codes(dfs)\n",
    "\n",
    "# DataFrame-level dictionary with code column\n",
    "def get_dataframe_dict(dfs: dict, df_codes: dict) -> pd.DataFrame:\n",
    "    records = []\n",
    "    for name, df in dfs.items():\n",
    "        records.append({\n",
    "            'DataFrame Code': df_codes[name],\n",
    "            'DataFrame Name': name,\n",
    "            'Description': '',\n",
    "            'Num Rows': df.shape[0],\n",
    "            'Num Columns': df.shape[1]\n",
    "        })\n",
    "    return pd.DataFrame(records)\n",
    "\n",
    "# Column-level dictionary using DataFrame code instead of name\n",
    "def get_column_dict(dfs: dict, df_codes: dict) -> pd.DataFrame:\n",
    "    records = []\n",
    "    for df_name, df in dfs.items():\n",
    "        for col in df.columns:\n",
    "            records.append({\n",
    "                'DataFrame Code': df_codes[df_name],\n",
    "                'Column Name': col,\n",
    "                'Data Type': df[col].dtype,\n",
    "                'Missing Values': df[col].isnull().sum(),\n",
    "                'Unique Values': df[col].nunique(),\n",
    "                'Example Value': df[col].dropna().iloc[0] if df[col].dropna().size > 0 else None,\n",
    "                'Description': ''\n",
    "            })\n",
    "    return pd.DataFrame(records)\n",
    "\n",
    "# Create dictionaries\n",
    "dataframe_dict = get_dataframe_dict(dfs, df_codes)\n",
    "column_dict = get_column_dict(dfs, df_codes)\n",
    "\n",
    "# Display results\n",
    "print(\"DataFrame Dictionary:\")\n",
    "display(dataframe_dict)\n",
    "\n",
    "print(\"\\nColumn Dictionary:\")\n",
    "display(column_dict)"
   ]
  },
  {
   "cell_type": "code",
   "execution_count": 90,
   "id": "94640b31-f35d-4166-a917-7b4432550d6b",
   "metadata": {
    "jupyter": {
     "source_hidden": true
    }
   },
   "outputs": [
    {
     "data": {
      "text/html": [
       "<div>\n",
       "<style scoped>\n",
       "    .dataframe tbody tr th:only-of-type {\n",
       "        vertical-align: middle;\n",
       "    }\n",
       "\n",
       "    .dataframe tbody tr th {\n",
       "        vertical-align: top;\n",
       "    }\n",
       "\n",
       "    .dataframe thead th {\n",
       "        text-align: right;\n",
       "    }\n",
       "</style>\n",
       "<table border=\"1\" class=\"dataframe\">\n",
       "  <thead>\n",
       "    <tr style=\"text-align: right;\">\n",
       "      <th></th>\n",
       "      <th>DataFrame Name</th>\n",
       "      <th>Column Name</th>\n",
       "      <th>Data Type</th>\n",
       "      <th>Missing Values</th>\n",
       "      <th>Unique Values</th>\n",
       "      <th>Example Value</th>\n",
       "    </tr>\n",
       "  </thead>\n",
       "  <tbody>\n",
       "    <tr>\n",
       "      <th>0</th>\n",
       "      <td>finalized_broder_crossing_df</td>\n",
       "      <td>Port Code</td>\n",
       "      <td>int64</td>\n",
       "      <td>0</td>\n",
       "      <td>115</td>\n",
       "      <td>104</td>\n",
       "    </tr>\n",
       "    <tr>\n",
       "      <th>1</th>\n",
       "      <td>finalized_broder_crossing_df</td>\n",
       "      <td>Date</td>\n",
       "      <td>datetime64[ns]</td>\n",
       "      <td>0</td>\n",
       "      <td>120</td>\n",
       "      <td>2024-01-01 00:00:00</td>\n",
       "    </tr>\n",
       "    <tr>\n",
       "      <th>2</th>\n",
       "      <td>finalized_broder_crossing_df</td>\n",
       "      <td>Value</td>\n",
       "      <td>int64</td>\n",
       "      <td>0</td>\n",
       "      <td>27874</td>\n",
       "      <td>6556</td>\n",
       "    </tr>\n",
       "    <tr>\n",
       "      <th>3</th>\n",
       "      <td>finalized_broder_crossing_df</td>\n",
       "      <td>Latitude</td>\n",
       "      <td>float64</td>\n",
       "      <td>0</td>\n",
       "      <td>71</td>\n",
       "      <td>45.806</td>\n",
       "    </tr>\n",
       "    <tr>\n",
       "      <th>4</th>\n",
       "      <td>finalized_broder_crossing_df</td>\n",
       "      <td>Longitude</td>\n",
       "      <td>float64</td>\n",
       "      <td>0</td>\n",
       "      <td>114</td>\n",
       "      <td>-70.397</td>\n",
       "    </tr>\n",
       "    <tr>\n",
       "      <th>5</th>\n",
       "      <td>finalized_broder_crossing_df</td>\n",
       "      <td>Month</td>\n",
       "      <td>int32</td>\n",
       "      <td>0</td>\n",
       "      <td>12</td>\n",
       "      <td>1</td>\n",
       "    </tr>\n",
       "    <tr>\n",
       "      <th>6</th>\n",
       "      <td>finalized_broder_crossing_df</td>\n",
       "      <td>Year</td>\n",
       "      <td>int32</td>\n",
       "      <td>0</td>\n",
       "      <td>10</td>\n",
       "      <td>2024</td>\n",
       "    </tr>\n",
       "    <tr>\n",
       "      <th>7</th>\n",
       "      <td>finalized_broder_crossing_df</td>\n",
       "      <td>State_Code</td>\n",
       "      <td>object</td>\n",
       "      <td>0</td>\n",
       "      <td>14</td>\n",
       "      <td>001</td>\n",
       "    </tr>\n",
       "    <tr>\n",
       "      <th>8</th>\n",
       "      <td>finalized_broder_crossing_df</td>\n",
       "      <td>Border_Code</td>\n",
       "      <td>object</td>\n",
       "      <td>0</td>\n",
       "      <td>2</td>\n",
       "      <td>001</td>\n",
       "    </tr>\n",
       "    <tr>\n",
       "      <th>9</th>\n",
       "      <td>finalized_broder_crossing_df</td>\n",
       "      <td>Measure_Code</td>\n",
       "      <td>object</td>\n",
       "      <td>0</td>\n",
       "      <td>12</td>\n",
       "      <td>001</td>\n",
       "    </tr>\n",
       "  </tbody>\n",
       "</table>\n",
       "</div>"
      ],
      "text/plain": [
       "                 DataFrame Name   Column Name       Data Type  Missing Values  \\\n",
       "0  finalized_broder_crossing_df     Port Code           int64               0   \n",
       "1  finalized_broder_crossing_df          Date  datetime64[ns]               0   \n",
       "2  finalized_broder_crossing_df         Value           int64               0   \n",
       "3  finalized_broder_crossing_df      Latitude         float64               0   \n",
       "4  finalized_broder_crossing_df     Longitude         float64               0   \n",
       "5  finalized_broder_crossing_df         Month           int32               0   \n",
       "6  finalized_broder_crossing_df          Year           int32               0   \n",
       "7  finalized_broder_crossing_df    State_Code          object               0   \n",
       "8  finalized_broder_crossing_df   Border_Code          object               0   \n",
       "9  finalized_broder_crossing_df  Measure_Code          object               0   \n",
       "\n",
       "   Unique Values        Example Value  \n",
       "0            115                  104  \n",
       "1            120  2024-01-01 00:00:00  \n",
       "2          27874                 6556  \n",
       "3             71               45.806  \n",
       "4            114              -70.397  \n",
       "5             12                    1  \n",
       "6             10                 2024  \n",
       "7             14                  001  \n",
       "8              2                  001  \n",
       "9             12                  001  "
      ]
     },
     "metadata": {},
     "output_type": "display_data"
    }
   ],
   "source": [
    "\n",
    "# Dataframe codes: dfc_001, dfc_002, dfc_003, dfc_004, dfc_005, dfc_006\n",
    "display(\n",
    "    pd.merge(column_dict, dataframe_dict, on='DataFrame Code', how='left')\n",
    "      .query(\"`DataFrame Code` == 'dfc_001'\")\n",
    "      [[\n",
    "          'DataFrame Name',\n",
    "          'Column Name',\n",
    "          'Data Type',\n",
    "          'Missing Values',\n",
    "          'Unique Values',\n",
    "          'Example Value',\n",
    "      ]]\n",
    ")"
   ]
  },
  {
   "cell_type": "code",
   "execution_count": 91,
   "id": "c134d594-3fa3-44c5-8228-e883f44b6902",
   "metadata": {
    "jupyter": {
     "source_hidden": true
    }
   },
   "outputs": [
    {
     "name": "stdout",
     "output_type": "stream",
     "text": [
      "User DataFrames:\n",
      "state_table\n",
      "duplicates\n",
      "border_table\n",
      "measure_table\n",
      "port_table\n",
      "filtered_df\n",
      "result\n",
      "month_table\n",
      "finalized_broder_crossing_df\n",
      "dataframe_dict\n",
      "column_dict\n"
     ]
    }
   ],
   "source": [
    "\n",
    "# Get all DataFrames excluding system/temp vars starting with underscore\n",
    "dataframes = {\n",
    "    name: obj for name, obj in globals().items() \n",
    "    if isinstance(obj, DataFrame) and not name.startswith('_')\n",
    "}\n",
    "\n",
    "exclude_names = {'df'}\n",
    "filtered_dfs = {name: df for name, df in dataframes.items() if name not in exclude_names}\n",
    "\n",
    "print(\"User DataFrames:\")\n",
    "for name in filtered_dfs:\n",
    "    print(name)"
   ]
  },
  {
   "cell_type": "code",
   "execution_count": 92,
   "id": "4fb61a4e-dff7-48ff-b09c-06b9d0ab12f1",
   "metadata": {
    "jupyter": {
     "source_hidden": true
    }
   },
   "outputs": [
    {
     "name": "stdout",
     "output_type": "stream",
     "text": [
      "CSV files are created for: \n",
      "state_table\n",
      "border_table\n",
      "measure_table\n",
      "port_table\n",
      "month_table\n",
      "finalized_broder_crossing_df\n",
      "dataframe_dict\n",
      "column_dict\n"
     ]
    }
   ],
   "source": [
    "\n",
    "# Exporting data to CSV file\n",
    "state_table.to_csv('state_table.csv', index=False)\n",
    "border_table.to_csv('border_table.csv', index=False)\n",
    "measure_table.to_csv('measure_table.csv', index=False)\n",
    "port_table.to_csv('port_table.csv', index=False)\n",
    "month_table.to_csv('month_table.csv', index=False)\n",
    "finalized_broder_crossing_df.to_csv('finalized_broder_crossing_df.csv', index=False)\n",
    "dataframe_dict.to_csv('dataframe_dict.csv', index=False)\n",
    "column_dict.to_csv('column_dict.csv', index=False)\n",
    "print('CSV files are created for: \\nstate_table\\nborder_table\\nmeasure_table\\nport_table\\nmonth_table\\nfinalized_broder_crossing_df\\ndataframe_dict\\ncolumn_dict')"
   ]
  },
  {
   "cell_type": "code",
   "execution_count": null,
   "id": "679db769-f3dc-44ab-92ed-b23acc1bfb4e",
   "metadata": {
    "jupyter": {
     "source_hidden": true
    }
   },
   "outputs": [],
   "source": []
  },
  {
   "cell_type": "code",
   "execution_count": null,
   "id": "20cd898f-2474-4c56-bd1c-b27560ecf828",
   "metadata": {
    "jupyter": {
     "source_hidden": true
    }
   },
   "outputs": [],
   "source": []
  },
  {
   "cell_type": "code",
   "execution_count": null,
   "id": "9451661e-2edb-4d71-81e4-bf976ecbc667",
   "metadata": {
    "jupyter": {
     "source_hidden": true
    }
   },
   "outputs": [],
   "source": []
  }
 ],
 "metadata": {
  "kernelspec": {
   "display_name": "Python 3 (ipykernel)",
   "language": "python",
   "name": "python3"
  },
  "language_info": {
   "codemirror_mode": {
    "name": "ipython",
    "version": 3
   },
   "file_extension": ".py",
   "mimetype": "text/x-python",
   "name": "python",
   "nbconvert_exporter": "python",
   "pygments_lexer": "ipython3",
   "version": "3.13.5"
  }
 },
 "nbformat": 4,
 "nbformat_minor": 5
}
